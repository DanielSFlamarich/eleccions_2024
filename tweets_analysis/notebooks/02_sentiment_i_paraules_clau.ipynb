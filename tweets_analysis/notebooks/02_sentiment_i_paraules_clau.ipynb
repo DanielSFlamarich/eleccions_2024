{
 "cells": [
  {
   "cell_type": "code",
   "execution_count": 2,
   "id": "0650fada-6ade-427d-b485-92bd8796e41a",
   "metadata": {},
   "outputs": [],
   "source": [
    "import pandas as pd\n",
    "import numpy as np\n",
    "\n",
    "from transformers import pipeline\n",
    "\n",
    "import matplotlib.pyplot as plt\n",
    "import seaborn as sns\n",
    "\n",
    "plt.rcParams['figure.figsize'] = [20, 8]"
   ]
  },
  {
   "cell_type": "code",
   "execution_count": 3,
   "id": "3288cef3-c6a7-4cfd-a375-d399c8d4265d",
   "metadata": {},
   "outputs": [],
   "source": [
    "pd.options.display.max_columns = None"
   ]
  },
  {
   "cell_type": "code",
   "execution_count": 4,
   "id": "aa02424d-632d-4a9d-bf43-8a47370d19e3",
   "metadata": {},
   "outputs": [],
   "source": [
    "colors_partits = ['#F7DC6F', '#A569BD', '#F39C12', '#82E0AA', '#2471A3', '#C0392B', '#229954']\n",
    "\n",
    "groupings = ['llengua', 'tipus']\n",
    "resample = ['d', 'w', 'w-mon', 'm']"
   ]
  },
  {
   "cell_type": "code",
   "execution_count": 5,
   "id": "d8094c87-b1f7-4108-a635-e23ce652a830",
   "metadata": {},
   "outputs": [],
   "source": [
    "df_raw = pd.read_csv('../data/external/piulades_2024_03_18 - tot.csv', parse_dates=['creat'])"
   ]
  },
  {
   "cell_type": "code",
   "execution_count": 6,
   "id": "45fa78e1-28eb-4789-95a6-6757c7cd8950",
   "metadata": {},
   "outputs": [],
   "source": [
    "# començar el 2024\n",
    "df_raw = df_raw[df_raw['creat']>='2024-01-01']\n",
    "\n",
    "df_raw['data'] = df_raw['creat'].values.astype('datetime64[D]')"
   ]
  },
  {
   "cell_type": "code",
   "execution_count": 7,
   "id": "b1065a9e-e77a-422b-9ded-b72ad9d35f24",
   "metadata": {},
   "outputs": [
    {
     "name": "stdout",
     "output_type": "stream",
     "text": [
      "['ca' 'tr' 'en' 'es' 'pt' 'eu' 'hu' 'it' 'fr' 'zxx' 'lv' 'und' 'qst']\n"
     ]
    }
   ],
   "source": [
    "print(df_raw['llengua'].unique())"
   ]
  },
  {
   "cell_type": "code",
   "execution_count": 8,
   "id": "b63ef3eb-7138-4de4-a3d7-5c9056c8b937",
   "metadata": {},
   "outputs": [],
   "source": [
    "llengues = ['ca', 'es']\n",
    "\n",
    "df = df_raw[df_raw['llengua'].isin(llengues)]"
   ]
  },
  {
   "cell_type": "markdown",
   "id": "27e045a8-d117-4ca1-a19a-8f2024b0ce31",
   "metadata": {},
   "source": [
    "# 1. Sentiment"
   ]
  },
  {
   "cell_type": "code",
   "execution_count": 10,
   "id": "4eede109-0152-4886-a07d-2d2be9781b68",
   "metadata": {},
   "outputs": [
    {
     "ename": "OSError",
     "evalue": "bert-base-multilingual-uncased-sentiment is not a local folder and is not a valid model identifier listed on 'https://huggingface.co/models'\nIf this is a private repository, make sure to pass a token having permission to this repo either by logging in with `huggingface-cli login` or by passing `token=<your_token>`",
     "output_type": "error",
     "traceback": [
      "\u001b[0;31m---------------------------------------------------------------------------\u001b[0m",
      "\u001b[0;31mHTTPError\u001b[0m                                 Traceback (most recent call last)",
      "File \u001b[0;32m~/Documents/data_works/various/.virtualenv/lib/python3.9/site-packages/huggingface_hub/utils/_errors.py:304\u001b[0m, in \u001b[0;36mhf_raise_for_status\u001b[0;34m(response, endpoint_name)\u001b[0m\n\u001b[1;32m    303\u001b[0m \u001b[38;5;28;01mtry\u001b[39;00m:\n\u001b[0;32m--> 304\u001b[0m     \u001b[43mresponse\u001b[49m\u001b[38;5;241;43m.\u001b[39;49m\u001b[43mraise_for_status\u001b[49m\u001b[43m(\u001b[49m\u001b[43m)\u001b[49m\n\u001b[1;32m    305\u001b[0m \u001b[38;5;28;01mexcept\u001b[39;00m HTTPError \u001b[38;5;28;01mas\u001b[39;00m e:\n",
      "File \u001b[0;32m~/Documents/data_works/various/.virtualenv/lib/python3.9/site-packages/requests/models.py:1021\u001b[0m, in \u001b[0;36mResponse.raise_for_status\u001b[0;34m(self)\u001b[0m\n\u001b[1;32m   1020\u001b[0m \u001b[38;5;28;01mif\u001b[39;00m http_error_msg:\n\u001b[0;32m-> 1021\u001b[0m     \u001b[38;5;28;01mraise\u001b[39;00m HTTPError(http_error_msg, response\u001b[38;5;241m=\u001b[39m\u001b[38;5;28mself\u001b[39m)\n",
      "\u001b[0;31mHTTPError\u001b[0m: 401 Client Error: Unauthorized for url: https://huggingface.co/bert-base-multilingual-uncased-sentiment/resolve/main/config.json",
      "\nThe above exception was the direct cause of the following exception:\n",
      "\u001b[0;31mRepositoryNotFoundError\u001b[0m                   Traceback (most recent call last)",
      "File \u001b[0;32m~/Documents/data_works/various/.virtualenv/lib/python3.9/site-packages/transformers/utils/hub.py:398\u001b[0m, in \u001b[0;36mcached_file\u001b[0;34m(path_or_repo_id, filename, cache_dir, force_download, resume_download, proxies, token, revision, local_files_only, subfolder, repo_type, user_agent, _raise_exceptions_for_gated_repo, _raise_exceptions_for_missing_entries, _raise_exceptions_for_connection_errors, _commit_hash, **deprecated_kwargs)\u001b[0m\n\u001b[1;32m    396\u001b[0m \u001b[38;5;28;01mtry\u001b[39;00m:\n\u001b[1;32m    397\u001b[0m     \u001b[38;5;66;03m# Load from URL or cache if already cached\u001b[39;00m\n\u001b[0;32m--> 398\u001b[0m     resolved_file \u001b[38;5;241m=\u001b[39m \u001b[43mhf_hub_download\u001b[49m\u001b[43m(\u001b[49m\n\u001b[1;32m    399\u001b[0m \u001b[43m        \u001b[49m\u001b[43mpath_or_repo_id\u001b[49m\u001b[43m,\u001b[49m\n\u001b[1;32m    400\u001b[0m \u001b[43m        \u001b[49m\u001b[43mfilename\u001b[49m\u001b[43m,\u001b[49m\n\u001b[1;32m    401\u001b[0m \u001b[43m        \u001b[49m\u001b[43msubfolder\u001b[49m\u001b[38;5;241;43m=\u001b[39;49m\u001b[38;5;28;43;01mNone\u001b[39;49;00m\u001b[43m \u001b[49m\u001b[38;5;28;43;01mif\u001b[39;49;00m\u001b[43m \u001b[49m\u001b[38;5;28;43mlen\u001b[39;49m\u001b[43m(\u001b[49m\u001b[43msubfolder\u001b[49m\u001b[43m)\u001b[49m\u001b[43m \u001b[49m\u001b[38;5;241;43m==\u001b[39;49m\u001b[43m \u001b[49m\u001b[38;5;241;43m0\u001b[39;49m\u001b[43m \u001b[49m\u001b[38;5;28;43;01melse\u001b[39;49;00m\u001b[43m \u001b[49m\u001b[43msubfolder\u001b[49m\u001b[43m,\u001b[49m\n\u001b[1;32m    402\u001b[0m \u001b[43m        \u001b[49m\u001b[43mrepo_type\u001b[49m\u001b[38;5;241;43m=\u001b[39;49m\u001b[43mrepo_type\u001b[49m\u001b[43m,\u001b[49m\n\u001b[1;32m    403\u001b[0m \u001b[43m        \u001b[49m\u001b[43mrevision\u001b[49m\u001b[38;5;241;43m=\u001b[39;49m\u001b[43mrevision\u001b[49m\u001b[43m,\u001b[49m\n\u001b[1;32m    404\u001b[0m \u001b[43m        \u001b[49m\u001b[43mcache_dir\u001b[49m\u001b[38;5;241;43m=\u001b[39;49m\u001b[43mcache_dir\u001b[49m\u001b[43m,\u001b[49m\n\u001b[1;32m    405\u001b[0m \u001b[43m        \u001b[49m\u001b[43muser_agent\u001b[49m\u001b[38;5;241;43m=\u001b[39;49m\u001b[43muser_agent\u001b[49m\u001b[43m,\u001b[49m\n\u001b[1;32m    406\u001b[0m \u001b[43m        \u001b[49m\u001b[43mforce_download\u001b[49m\u001b[38;5;241;43m=\u001b[39;49m\u001b[43mforce_download\u001b[49m\u001b[43m,\u001b[49m\n\u001b[1;32m    407\u001b[0m \u001b[43m        \u001b[49m\u001b[43mproxies\u001b[49m\u001b[38;5;241;43m=\u001b[39;49m\u001b[43mproxies\u001b[49m\u001b[43m,\u001b[49m\n\u001b[1;32m    408\u001b[0m \u001b[43m        \u001b[49m\u001b[43mresume_download\u001b[49m\u001b[38;5;241;43m=\u001b[39;49m\u001b[43mresume_download\u001b[49m\u001b[43m,\u001b[49m\n\u001b[1;32m    409\u001b[0m \u001b[43m        \u001b[49m\u001b[43mtoken\u001b[49m\u001b[38;5;241;43m=\u001b[39;49m\u001b[43mtoken\u001b[49m\u001b[43m,\u001b[49m\n\u001b[1;32m    410\u001b[0m \u001b[43m        \u001b[49m\u001b[43mlocal_files_only\u001b[49m\u001b[38;5;241;43m=\u001b[39;49m\u001b[43mlocal_files_only\u001b[49m\u001b[43m,\u001b[49m\n\u001b[1;32m    411\u001b[0m \u001b[43m    \u001b[49m\u001b[43m)\u001b[49m\n\u001b[1;32m    412\u001b[0m \u001b[38;5;28;01mexcept\u001b[39;00m GatedRepoError \u001b[38;5;28;01mas\u001b[39;00m e:\n",
      "File \u001b[0;32m~/Documents/data_works/various/.virtualenv/lib/python3.9/site-packages/huggingface_hub/utils/_validators.py:119\u001b[0m, in \u001b[0;36mvalidate_hf_hub_args.<locals>._inner_fn\u001b[0;34m(*args, **kwargs)\u001b[0m\n\u001b[1;32m    117\u001b[0m     kwargs \u001b[38;5;241m=\u001b[39m smoothly_deprecate_use_auth_token(fn_name\u001b[38;5;241m=\u001b[39mfn\u001b[38;5;241m.\u001b[39m\u001b[38;5;18m__name__\u001b[39m, has_token\u001b[38;5;241m=\u001b[39mhas_token, kwargs\u001b[38;5;241m=\u001b[39mkwargs)\n\u001b[0;32m--> 119\u001b[0m \u001b[38;5;28;01mreturn\u001b[39;00m \u001b[43mfn\u001b[49m\u001b[43m(\u001b[49m\u001b[38;5;241;43m*\u001b[39;49m\u001b[43margs\u001b[49m\u001b[43m,\u001b[49m\u001b[43m \u001b[49m\u001b[38;5;241;43m*\u001b[39;49m\u001b[38;5;241;43m*\u001b[39;49m\u001b[43mkwargs\u001b[49m\u001b[43m)\u001b[49m\n",
      "File \u001b[0;32m~/Documents/data_works/various/.virtualenv/lib/python3.9/site-packages/huggingface_hub/file_download.py:1403\u001b[0m, in \u001b[0;36mhf_hub_download\u001b[0;34m(repo_id, filename, subfolder, repo_type, revision, library_name, library_version, cache_dir, local_dir, local_dir_use_symlinks, user_agent, force_download, force_filename, proxies, etag_timeout, resume_download, token, local_files_only, headers, legacy_cache_layout, endpoint)\u001b[0m\n\u001b[1;32m   1401\u001b[0m \u001b[38;5;28;01melif\u001b[39;00m \u001b[38;5;28misinstance\u001b[39m(head_call_error, RepositoryNotFoundError) \u001b[38;5;129;01mor\u001b[39;00m \u001b[38;5;28misinstance\u001b[39m(head_call_error, GatedRepoError):\n\u001b[1;32m   1402\u001b[0m     \u001b[38;5;66;03m# Repo not found or gated => let's raise the actual error\u001b[39;00m\n\u001b[0;32m-> 1403\u001b[0m     \u001b[38;5;28;01mraise\u001b[39;00m head_call_error\n\u001b[1;32m   1404\u001b[0m \u001b[38;5;28;01melse\u001b[39;00m:\n\u001b[1;32m   1405\u001b[0m     \u001b[38;5;66;03m# Otherwise: most likely a connection issue or Hub downtime => let's warn the user\u001b[39;00m\n",
      "File \u001b[0;32m~/Documents/data_works/various/.virtualenv/lib/python3.9/site-packages/huggingface_hub/file_download.py:1261\u001b[0m, in \u001b[0;36mhf_hub_download\u001b[0;34m(repo_id, filename, subfolder, repo_type, revision, library_name, library_version, cache_dir, local_dir, local_dir_use_symlinks, user_agent, force_download, force_filename, proxies, etag_timeout, resume_download, token, local_files_only, headers, legacy_cache_layout, endpoint)\u001b[0m\n\u001b[1;32m   1260\u001b[0m \u001b[38;5;28;01mtry\u001b[39;00m:\n\u001b[0;32m-> 1261\u001b[0m     metadata \u001b[38;5;241m=\u001b[39m \u001b[43mget_hf_file_metadata\u001b[49m\u001b[43m(\u001b[49m\n\u001b[1;32m   1262\u001b[0m \u001b[43m        \u001b[49m\u001b[43murl\u001b[49m\u001b[38;5;241;43m=\u001b[39;49m\u001b[43murl\u001b[49m\u001b[43m,\u001b[49m\n\u001b[1;32m   1263\u001b[0m \u001b[43m        \u001b[49m\u001b[43mtoken\u001b[49m\u001b[38;5;241;43m=\u001b[39;49m\u001b[43mtoken\u001b[49m\u001b[43m,\u001b[49m\n\u001b[1;32m   1264\u001b[0m \u001b[43m        \u001b[49m\u001b[43mproxies\u001b[49m\u001b[38;5;241;43m=\u001b[39;49m\u001b[43mproxies\u001b[49m\u001b[43m,\u001b[49m\n\u001b[1;32m   1265\u001b[0m \u001b[43m        \u001b[49m\u001b[43mtimeout\u001b[49m\u001b[38;5;241;43m=\u001b[39;49m\u001b[43metag_timeout\u001b[49m\u001b[43m,\u001b[49m\n\u001b[1;32m   1266\u001b[0m \u001b[43m        \u001b[49m\u001b[43mlibrary_name\u001b[49m\u001b[38;5;241;43m=\u001b[39;49m\u001b[43mlibrary_name\u001b[49m\u001b[43m,\u001b[49m\n\u001b[1;32m   1267\u001b[0m \u001b[43m        \u001b[49m\u001b[43mlibrary_version\u001b[49m\u001b[38;5;241;43m=\u001b[39;49m\u001b[43mlibrary_version\u001b[49m\u001b[43m,\u001b[49m\n\u001b[1;32m   1268\u001b[0m \u001b[43m        \u001b[49m\u001b[43muser_agent\u001b[49m\u001b[38;5;241;43m=\u001b[39;49m\u001b[43muser_agent\u001b[49m\u001b[43m,\u001b[49m\n\u001b[1;32m   1269\u001b[0m \u001b[43m    \u001b[49m\u001b[43m)\u001b[49m\n\u001b[1;32m   1270\u001b[0m \u001b[38;5;28;01mexcept\u001b[39;00m EntryNotFoundError \u001b[38;5;28;01mas\u001b[39;00m http_error:\n\u001b[1;32m   1271\u001b[0m     \u001b[38;5;66;03m# Cache the non-existence of the file and raise\u001b[39;00m\n",
      "File \u001b[0;32m~/Documents/data_works/various/.virtualenv/lib/python3.9/site-packages/huggingface_hub/utils/_validators.py:119\u001b[0m, in \u001b[0;36mvalidate_hf_hub_args.<locals>._inner_fn\u001b[0;34m(*args, **kwargs)\u001b[0m\n\u001b[1;32m    117\u001b[0m     kwargs \u001b[38;5;241m=\u001b[39m smoothly_deprecate_use_auth_token(fn_name\u001b[38;5;241m=\u001b[39mfn\u001b[38;5;241m.\u001b[39m\u001b[38;5;18m__name__\u001b[39m, has_token\u001b[38;5;241m=\u001b[39mhas_token, kwargs\u001b[38;5;241m=\u001b[39mkwargs)\n\u001b[0;32m--> 119\u001b[0m \u001b[38;5;28;01mreturn\u001b[39;00m \u001b[43mfn\u001b[49m\u001b[43m(\u001b[49m\u001b[38;5;241;43m*\u001b[39;49m\u001b[43margs\u001b[49m\u001b[43m,\u001b[49m\u001b[43m \u001b[49m\u001b[38;5;241;43m*\u001b[39;49m\u001b[38;5;241;43m*\u001b[39;49m\u001b[43mkwargs\u001b[49m\u001b[43m)\u001b[49m\n",
      "File \u001b[0;32m~/Documents/data_works/various/.virtualenv/lib/python3.9/site-packages/huggingface_hub/file_download.py:1674\u001b[0m, in \u001b[0;36mget_hf_file_metadata\u001b[0;34m(url, token, proxies, timeout, library_name, library_version, user_agent, headers)\u001b[0m\n\u001b[1;32m   1673\u001b[0m \u001b[38;5;66;03m# Retrieve metadata\u001b[39;00m\n\u001b[0;32m-> 1674\u001b[0m r \u001b[38;5;241m=\u001b[39m \u001b[43m_request_wrapper\u001b[49m\u001b[43m(\u001b[49m\n\u001b[1;32m   1675\u001b[0m \u001b[43m    \u001b[49m\u001b[43mmethod\u001b[49m\u001b[38;5;241;43m=\u001b[39;49m\u001b[38;5;124;43m\"\u001b[39;49m\u001b[38;5;124;43mHEAD\u001b[39;49m\u001b[38;5;124;43m\"\u001b[39;49m\u001b[43m,\u001b[49m\n\u001b[1;32m   1676\u001b[0m \u001b[43m    \u001b[49m\u001b[43murl\u001b[49m\u001b[38;5;241;43m=\u001b[39;49m\u001b[43murl\u001b[49m\u001b[43m,\u001b[49m\n\u001b[1;32m   1677\u001b[0m \u001b[43m    \u001b[49m\u001b[43mheaders\u001b[49m\u001b[38;5;241;43m=\u001b[39;49m\u001b[43mheaders\u001b[49m\u001b[43m,\u001b[49m\n\u001b[1;32m   1678\u001b[0m \u001b[43m    \u001b[49m\u001b[43mallow_redirects\u001b[49m\u001b[38;5;241;43m=\u001b[39;49m\u001b[38;5;28;43;01mFalse\u001b[39;49;00m\u001b[43m,\u001b[49m\n\u001b[1;32m   1679\u001b[0m \u001b[43m    \u001b[49m\u001b[43mfollow_relative_redirects\u001b[49m\u001b[38;5;241;43m=\u001b[39;49m\u001b[38;5;28;43;01mTrue\u001b[39;49;00m\u001b[43m,\u001b[49m\n\u001b[1;32m   1680\u001b[0m \u001b[43m    \u001b[49m\u001b[43mproxies\u001b[49m\u001b[38;5;241;43m=\u001b[39;49m\u001b[43mproxies\u001b[49m\u001b[43m,\u001b[49m\n\u001b[1;32m   1681\u001b[0m \u001b[43m    \u001b[49m\u001b[43mtimeout\u001b[49m\u001b[38;5;241;43m=\u001b[39;49m\u001b[43mtimeout\u001b[49m\u001b[43m,\u001b[49m\n\u001b[1;32m   1682\u001b[0m \u001b[43m\u001b[49m\u001b[43m)\u001b[49m\n\u001b[1;32m   1683\u001b[0m hf_raise_for_status(r)\n",
      "File \u001b[0;32m~/Documents/data_works/various/.virtualenv/lib/python3.9/site-packages/huggingface_hub/file_download.py:369\u001b[0m, in \u001b[0;36m_request_wrapper\u001b[0;34m(method, url, follow_relative_redirects, **params)\u001b[0m\n\u001b[1;32m    368\u001b[0m \u001b[38;5;28;01mif\u001b[39;00m follow_relative_redirects:\n\u001b[0;32m--> 369\u001b[0m     response \u001b[38;5;241m=\u001b[39m \u001b[43m_request_wrapper\u001b[49m\u001b[43m(\u001b[49m\n\u001b[1;32m    370\u001b[0m \u001b[43m        \u001b[49m\u001b[43mmethod\u001b[49m\u001b[38;5;241;43m=\u001b[39;49m\u001b[43mmethod\u001b[49m\u001b[43m,\u001b[49m\n\u001b[1;32m    371\u001b[0m \u001b[43m        \u001b[49m\u001b[43murl\u001b[49m\u001b[38;5;241;43m=\u001b[39;49m\u001b[43murl\u001b[49m\u001b[43m,\u001b[49m\n\u001b[1;32m    372\u001b[0m \u001b[43m        \u001b[49m\u001b[43mfollow_relative_redirects\u001b[49m\u001b[38;5;241;43m=\u001b[39;49m\u001b[38;5;28;43;01mFalse\u001b[39;49;00m\u001b[43m,\u001b[49m\n\u001b[1;32m    373\u001b[0m \u001b[43m        \u001b[49m\u001b[38;5;241;43m*\u001b[39;49m\u001b[38;5;241;43m*\u001b[39;49m\u001b[43mparams\u001b[49m\u001b[43m,\u001b[49m\n\u001b[1;32m    374\u001b[0m \u001b[43m    \u001b[49m\u001b[43m)\u001b[49m\n\u001b[1;32m    376\u001b[0m     \u001b[38;5;66;03m# If redirection, we redirect only relative paths.\u001b[39;00m\n\u001b[1;32m    377\u001b[0m     \u001b[38;5;66;03m# This is useful in case of a renamed repository.\u001b[39;00m\n",
      "File \u001b[0;32m~/Documents/data_works/various/.virtualenv/lib/python3.9/site-packages/huggingface_hub/file_download.py:393\u001b[0m, in \u001b[0;36m_request_wrapper\u001b[0;34m(method, url, follow_relative_redirects, **params)\u001b[0m\n\u001b[1;32m    392\u001b[0m response \u001b[38;5;241m=\u001b[39m get_session()\u001b[38;5;241m.\u001b[39mrequest(method\u001b[38;5;241m=\u001b[39mmethod, url\u001b[38;5;241m=\u001b[39murl, \u001b[38;5;241m*\u001b[39m\u001b[38;5;241m*\u001b[39mparams)\n\u001b[0;32m--> 393\u001b[0m \u001b[43mhf_raise_for_status\u001b[49m\u001b[43m(\u001b[49m\u001b[43mresponse\u001b[49m\u001b[43m)\u001b[49m\n\u001b[1;32m    394\u001b[0m \u001b[38;5;28;01mreturn\u001b[39;00m response\n",
      "File \u001b[0;32m~/Documents/data_works/various/.virtualenv/lib/python3.9/site-packages/huggingface_hub/utils/_errors.py:352\u001b[0m, in \u001b[0;36mhf_raise_for_status\u001b[0;34m(response, endpoint_name)\u001b[0m\n\u001b[1;32m    344\u001b[0m     message \u001b[38;5;241m=\u001b[39m (\n\u001b[1;32m    345\u001b[0m         \u001b[38;5;124mf\u001b[39m\u001b[38;5;124m\"\u001b[39m\u001b[38;5;132;01m{\u001b[39;00mresponse\u001b[38;5;241m.\u001b[39mstatus_code\u001b[38;5;132;01m}\u001b[39;00m\u001b[38;5;124m Client Error.\u001b[39m\u001b[38;5;124m\"\u001b[39m\n\u001b[1;32m    346\u001b[0m         \u001b[38;5;241m+\u001b[39m \u001b[38;5;124m\"\u001b[39m\u001b[38;5;130;01m\\n\u001b[39;00m\u001b[38;5;130;01m\\n\u001b[39;00m\u001b[38;5;124m\"\u001b[39m\n\u001b[0;32m   (...)\u001b[0m\n\u001b[1;32m    350\u001b[0m         \u001b[38;5;124m\"\u001b[39m\u001b[38;5;124m make sure you are authenticated.\u001b[39m\u001b[38;5;124m\"\u001b[39m\n\u001b[1;32m    351\u001b[0m     )\n\u001b[0;32m--> 352\u001b[0m     \u001b[38;5;28;01mraise\u001b[39;00m RepositoryNotFoundError(message, response) \u001b[38;5;28;01mfrom\u001b[39;00m \u001b[38;5;21;01me\u001b[39;00m\n\u001b[1;32m    354\u001b[0m \u001b[38;5;28;01melif\u001b[39;00m response\u001b[38;5;241m.\u001b[39mstatus_code \u001b[38;5;241m==\u001b[39m \u001b[38;5;241m400\u001b[39m:\n",
      "\u001b[0;31mRepositoryNotFoundError\u001b[0m: 401 Client Error. (Request ID: Root=1-6604181c-7a644a2a61f29f7a4cf55963;79a9161a-a23f-4a51-96a8-f09808988656)\n\nRepository Not Found for url: https://huggingface.co/bert-base-multilingual-uncased-sentiment/resolve/main/config.json.\nPlease make sure you specified the correct `repo_id` and `repo_type`.\nIf you are trying to access a private or gated repo, make sure you are authenticated.\nInvalid username or password.",
      "\nThe above exception was the direct cause of the following exception:\n",
      "\u001b[0;31mOSError\u001b[0m                                   Traceback (most recent call last)",
      "Cell \u001b[0;32mIn[10], line 1\u001b[0m\n\u001b[0;32m----> 1\u001b[0m sentiment_pipeline \u001b[38;5;241m=\u001b[39m \u001b[43mpipeline\u001b[49m\u001b[43m(\u001b[49m\u001b[38;5;124;43m'\u001b[39;49m\u001b[38;5;124;43msentiment_analysis\u001b[39;49m\u001b[38;5;124;43m'\u001b[39;49m\u001b[43m,\u001b[49m\u001b[43m \u001b[49m\u001b[43mmodel\u001b[49m\u001b[38;5;241;43m=\u001b[39;49m\u001b[38;5;124;43m'\u001b[39;49m\u001b[38;5;124;43mbert-base-multilingual-uncased-sentiment\u001b[39;49m\u001b[38;5;124;43m'\u001b[39;49m\u001b[43m)\u001b[49m\n",
      "File \u001b[0;32m~/Documents/data_works/various/.virtualenv/lib/python3.9/site-packages/transformers/pipelines/__init__.py:779\u001b[0m, in \u001b[0;36mpipeline\u001b[0;34m(task, model, config, tokenizer, feature_extractor, image_processor, framework, revision, use_fast, token, device, device_map, torch_dtype, trust_remote_code, model_kwargs, pipeline_class, **kwargs)\u001b[0m\n\u001b[1;32m    775\u001b[0m     pretrained_model_name_or_path \u001b[38;5;241m=\u001b[39m model\n\u001b[1;32m    777\u001b[0m \u001b[38;5;28;01mif\u001b[39;00m \u001b[38;5;129;01mnot\u001b[39;00m \u001b[38;5;28misinstance\u001b[39m(config, PretrainedConfig) \u001b[38;5;129;01mand\u001b[39;00m pretrained_model_name_or_path \u001b[38;5;129;01mis\u001b[39;00m \u001b[38;5;129;01mnot\u001b[39;00m \u001b[38;5;28;01mNone\u001b[39;00m:\n\u001b[1;32m    778\u001b[0m     \u001b[38;5;66;03m# We make a call to the config file first (which may be absent) to get the commit hash as soon as possible\u001b[39;00m\n\u001b[0;32m--> 779\u001b[0m     resolved_config_file \u001b[38;5;241m=\u001b[39m \u001b[43mcached_file\u001b[49m\u001b[43m(\u001b[49m\n\u001b[1;32m    780\u001b[0m \u001b[43m        \u001b[49m\u001b[43mpretrained_model_name_or_path\u001b[49m\u001b[43m,\u001b[49m\n\u001b[1;32m    781\u001b[0m \u001b[43m        \u001b[49m\u001b[43mCONFIG_NAME\u001b[49m\u001b[43m,\u001b[49m\n\u001b[1;32m    782\u001b[0m \u001b[43m        \u001b[49m\u001b[43m_raise_exceptions_for_gated_repo\u001b[49m\u001b[38;5;241;43m=\u001b[39;49m\u001b[38;5;28;43;01mFalse\u001b[39;49;00m\u001b[43m,\u001b[49m\n\u001b[1;32m    783\u001b[0m \u001b[43m        \u001b[49m\u001b[43m_raise_exceptions_for_missing_entries\u001b[49m\u001b[38;5;241;43m=\u001b[39;49m\u001b[38;5;28;43;01mFalse\u001b[39;49;00m\u001b[43m,\u001b[49m\n\u001b[1;32m    784\u001b[0m \u001b[43m        \u001b[49m\u001b[43m_raise_exceptions_for_connection_errors\u001b[49m\u001b[38;5;241;43m=\u001b[39;49m\u001b[38;5;28;43;01mFalse\u001b[39;49;00m\u001b[43m,\u001b[49m\n\u001b[1;32m    785\u001b[0m \u001b[43m        \u001b[49m\u001b[38;5;241;43m*\u001b[39;49m\u001b[38;5;241;43m*\u001b[39;49m\u001b[43mhub_kwargs\u001b[49m\u001b[43m,\u001b[49m\n\u001b[1;32m    786\u001b[0m \u001b[43m    \u001b[49m\u001b[43m)\u001b[49m\n\u001b[1;32m    787\u001b[0m     hub_kwargs[\u001b[38;5;124m\"\u001b[39m\u001b[38;5;124m_commit_hash\u001b[39m\u001b[38;5;124m\"\u001b[39m] \u001b[38;5;241m=\u001b[39m extract_commit_hash(resolved_config_file, commit_hash)\n\u001b[1;32m    788\u001b[0m \u001b[38;5;28;01melse\u001b[39;00m:\n",
      "File \u001b[0;32m~/Documents/data_works/various/.virtualenv/lib/python3.9/site-packages/transformers/utils/hub.py:421\u001b[0m, in \u001b[0;36mcached_file\u001b[0;34m(path_or_repo_id, filename, cache_dir, force_download, resume_download, proxies, token, revision, local_files_only, subfolder, repo_type, user_agent, _raise_exceptions_for_gated_repo, _raise_exceptions_for_missing_entries, _raise_exceptions_for_connection_errors, _commit_hash, **deprecated_kwargs)\u001b[0m\n\u001b[1;32m    416\u001b[0m     \u001b[38;5;28;01mraise\u001b[39;00m \u001b[38;5;167;01mEnvironmentError\u001b[39;00m(\n\u001b[1;32m    417\u001b[0m         \u001b[38;5;124m\"\u001b[39m\u001b[38;5;124mYou are trying to access a gated repo.\u001b[39m\u001b[38;5;130;01m\\n\u001b[39;00m\u001b[38;5;124mMake sure to have access to it at \u001b[39m\u001b[38;5;124m\"\u001b[39m\n\u001b[1;32m    418\u001b[0m         \u001b[38;5;124mf\u001b[39m\u001b[38;5;124m\"\u001b[39m\u001b[38;5;124mhttps://huggingface.co/\u001b[39m\u001b[38;5;132;01m{\u001b[39;00mpath_or_repo_id\u001b[38;5;132;01m}\u001b[39;00m\u001b[38;5;124m.\u001b[39m\u001b[38;5;130;01m\\n\u001b[39;00m\u001b[38;5;132;01m{\u001b[39;00m\u001b[38;5;28mstr\u001b[39m(e)\u001b[38;5;132;01m}\u001b[39;00m\u001b[38;5;124m\"\u001b[39m\n\u001b[1;32m    419\u001b[0m     ) \u001b[38;5;28;01mfrom\u001b[39;00m \u001b[38;5;21;01me\u001b[39;00m\n\u001b[1;32m    420\u001b[0m \u001b[38;5;28;01mexcept\u001b[39;00m RepositoryNotFoundError \u001b[38;5;28;01mas\u001b[39;00m e:\n\u001b[0;32m--> 421\u001b[0m     \u001b[38;5;28;01mraise\u001b[39;00m \u001b[38;5;167;01mEnvironmentError\u001b[39;00m(\n\u001b[1;32m    422\u001b[0m         \u001b[38;5;124mf\u001b[39m\u001b[38;5;124m\"\u001b[39m\u001b[38;5;132;01m{\u001b[39;00mpath_or_repo_id\u001b[38;5;132;01m}\u001b[39;00m\u001b[38;5;124m is not a local folder and is not a valid model identifier \u001b[39m\u001b[38;5;124m\"\u001b[39m\n\u001b[1;32m    423\u001b[0m         \u001b[38;5;124m\"\u001b[39m\u001b[38;5;124mlisted on \u001b[39m\u001b[38;5;124m'\u001b[39m\u001b[38;5;124mhttps://huggingface.co/models\u001b[39m\u001b[38;5;124m'\u001b[39m\u001b[38;5;130;01m\\n\u001b[39;00m\u001b[38;5;124mIf this is a private repository, make sure to pass a token \u001b[39m\u001b[38;5;124m\"\u001b[39m\n\u001b[1;32m    424\u001b[0m         \u001b[38;5;124m\"\u001b[39m\u001b[38;5;124mhaving permission to this repo either by logging in with `huggingface-cli login` or by passing \u001b[39m\u001b[38;5;124m\"\u001b[39m\n\u001b[1;32m    425\u001b[0m         \u001b[38;5;124m\"\u001b[39m\u001b[38;5;124m`token=<your_token>`\u001b[39m\u001b[38;5;124m\"\u001b[39m\n\u001b[1;32m    426\u001b[0m     ) \u001b[38;5;28;01mfrom\u001b[39;00m \u001b[38;5;21;01me\u001b[39;00m\n\u001b[1;32m    427\u001b[0m \u001b[38;5;28;01mexcept\u001b[39;00m RevisionNotFoundError \u001b[38;5;28;01mas\u001b[39;00m e:\n\u001b[1;32m    428\u001b[0m     \u001b[38;5;28;01mraise\u001b[39;00m \u001b[38;5;167;01mEnvironmentError\u001b[39;00m(\n\u001b[1;32m    429\u001b[0m         \u001b[38;5;124mf\u001b[39m\u001b[38;5;124m\"\u001b[39m\u001b[38;5;132;01m{\u001b[39;00mrevision\u001b[38;5;132;01m}\u001b[39;00m\u001b[38;5;124m is not a valid git identifier (branch name, tag name or commit id) that exists \u001b[39m\u001b[38;5;124m\"\u001b[39m\n\u001b[1;32m    430\u001b[0m         \u001b[38;5;124m\"\u001b[39m\u001b[38;5;124mfor this model name. Check the model page at \u001b[39m\u001b[38;5;124m\"\u001b[39m\n\u001b[1;32m    431\u001b[0m         \u001b[38;5;124mf\u001b[39m\u001b[38;5;124m\"\u001b[39m\u001b[38;5;124m'\u001b[39m\u001b[38;5;124mhttps://huggingface.co/\u001b[39m\u001b[38;5;132;01m{\u001b[39;00mpath_or_repo_id\u001b[38;5;132;01m}\u001b[39;00m\u001b[38;5;124m'\u001b[39m\u001b[38;5;124m for available revisions.\u001b[39m\u001b[38;5;124m\"\u001b[39m\n\u001b[1;32m    432\u001b[0m     ) \u001b[38;5;28;01mfrom\u001b[39;00m \u001b[38;5;21;01me\u001b[39;00m\n",
      "\u001b[0;31mOSError\u001b[0m: bert-base-multilingual-uncased-sentiment is not a local folder and is not a valid model identifier listed on 'https://huggingface.co/models'\nIf this is a private repository, make sure to pass a token having permission to this repo either by logging in with `huggingface-cli login` or by passing `token=<your_token>`"
     ]
    }
   ],
   "source": [
    "sentiment_pipeline = pipeline('sentiment_analysis', model='bert-base-multilingual-uncased-sentiment')"
   ]
  },
  {
   "cell_type": "code",
   "execution_count": 9,
   "id": "5e515d82-b555-4b10-a27d-c05fd5b97908",
   "metadata": {},
   "outputs": [
    {
     "data": {
      "text/html": [
       "<div>\n",
       "<style scoped>\n",
       "    .dataframe tbody tr th:only-of-type {\n",
       "        vertical-align: middle;\n",
       "    }\n",
       "\n",
       "    .dataframe tbody tr th {\n",
       "        vertical-align: top;\n",
       "    }\n",
       "\n",
       "    .dataframe thead th {\n",
       "        text-align: right;\n",
       "    }\n",
       "</style>\n",
       "<table border=\"1\" class=\"dataframe\">\n",
       "  <thead>\n",
       "    <tr style=\"text-align: right;\">\n",
       "      <th></th>\n",
       "      <th>tweet_id</th>\n",
       "      <th>text</th>\n",
       "      <th>llengua</th>\n",
       "      <th>tipus</th>\n",
       "      <th>preferits</th>\n",
       "      <th>magraden</th>\n",
       "      <th>retweets</th>\n",
       "      <th>respostes</th>\n",
       "      <th>vistes</th>\n",
       "      <th>creat</th>\n",
       "      <th>client</th>\n",
       "      <th>hashtags</th>\n",
       "      <th>urls</th>\n",
       "      <th>media</th>\n",
       "      <th>media_urls</th>\n",
       "      <th>partit</th>\n",
       "      <th>data</th>\n",
       "    </tr>\n",
       "  </thead>\n",
       "  <tbody>\n",
       "    <tr>\n",
       "      <th>0</th>\n",
       "      <td>'1769681071916953887'</td>\n",
       "      <td>🍒 COMUNA  DE PARÍS\\n\\n#TalDiaComAvui de 1871 s...</td>\n",
       "      <td>ca</td>\n",
       "      <td>Retweet</td>\n",
       "      <td>0</td>\n",
       "      <td>26</td>\n",
       "      <td>15</td>\n",
       "      <td>0</td>\n",
       "      <td>2377.0</td>\n",
       "      <td>2024-03-18 12:03:41</td>\n",
       "      <td>&lt;a href=\"https://mobile.twitter.com\" rel=\"nofo...</td>\n",
       "      <td>#TalDiaComAvui</td>\n",
       "      <td>NaN</td>\n",
       "      <td>photo</td>\n",
       "      <td>https://pbs.twimg.com/media/GI8rYMyWIAAPNgP.jpg</td>\n",
       "      <td>cup</td>\n",
       "      <td>2024-03-18</td>\n",
       "    </tr>\n",
       "    <tr>\n",
       "      <th>1</th>\n",
       "      <td>'1769674784646869127'</td>\n",
       "      <td>🔸Lamentem el crim de la treballadora del CP Ma...</td>\n",
       "      <td>ca</td>\n",
       "      <td>Tweet</td>\n",
       "      <td>1</td>\n",
       "      <td>72</td>\n",
       "      <td>17</td>\n",
       "      <td>91</td>\n",
       "      <td>20308.0</td>\n",
       "      <td>2024-03-18 11:38:42</td>\n",
       "      <td>&lt;a href=\"https://mobile.twitter.com\" rel=\"nofo...</td>\n",
       "      <td>NaN</td>\n",
       "      <td>NaN</td>\n",
       "      <td>NaN</td>\n",
       "      <td>NaN</td>\n",
       "      <td>cup</td>\n",
       "      <td>2024-03-18</td>\n",
       "    </tr>\n",
       "    <tr>\n",
       "      <th>2</th>\n",
       "      <td>'1769422825750704520'</td>\n",
       "      <td>D'aquí poc el PSC s'omplirà la boca de la defe...</td>\n",
       "      <td>ca</td>\n",
       "      <td>Retweet</td>\n",
       "      <td>0</td>\n",
       "      <td>79</td>\n",
       "      <td>60</td>\n",
       "      <td>1</td>\n",
       "      <td>7720.0</td>\n",
       "      <td>2024-03-17 18:57:30</td>\n",
       "      <td>&lt;a href=\"http://twitter.com/download/android\" ...</td>\n",
       "      <td>NaN</td>\n",
       "      <td>NaN</td>\n",
       "      <td>NaN</td>\n",
       "      <td>NaN</td>\n",
       "      <td>cup</td>\n",
       "      <td>2024-03-17</td>\n",
       "    </tr>\n",
       "    <tr>\n",
       "      <th>3</th>\n",
       "      <td>'1769457554910802430'</td>\n",
       "      <td>\"No podran res davant d'un poble unit, alegre ...</td>\n",
       "      <td>ca</td>\n",
       "      <td>Tweet</td>\n",
       "      <td>4</td>\n",
       "      <td>145</td>\n",
       "      <td>55</td>\n",
       "      <td>2</td>\n",
       "      <td>10644.0</td>\n",
       "      <td>2024-03-17 21:15:30</td>\n",
       "      <td>&lt;a href=\"https://mobile.twitter.com\" rel=\"nofo...</td>\n",
       "      <td>NaN</td>\n",
       "      <td>NaN</td>\n",
       "      <td>photo</td>\n",
       "      <td>https://pbs.twimg.com/media/GI5dRu6XkAEnmh7.jpg</td>\n",
       "      <td>cup</td>\n",
       "      <td>2024-03-17</td>\n",
       "    </tr>\n",
       "    <tr>\n",
       "      <th>4</th>\n",
       "      <td>'1769375348955709791'</td>\n",
       "      <td>Per rellançar la precarietat al Camp.\\nPer con...</td>\n",
       "      <td>ca</td>\n",
       "      <td>Retweet</td>\n",
       "      <td>1</td>\n",
       "      <td>71</td>\n",
       "      <td>24</td>\n",
       "      <td>5</td>\n",
       "      <td>5762.0</td>\n",
       "      <td>2024-03-17 15:48:51</td>\n",
       "      <td>&lt;a href=\"http://twitter.com/download/android\" ...</td>\n",
       "      <td>NaN</td>\n",
       "      <td>NaN</td>\n",
       "      <td>NaN</td>\n",
       "      <td>NaN</td>\n",
       "      <td>cup</td>\n",
       "      <td>2024-03-17</td>\n",
       "    </tr>\n",
       "    <tr>\n",
       "      <th>...</th>\n",
       "      <td>...</td>\n",
       "      <td>...</td>\n",
       "      <td>...</td>\n",
       "      <td>...</td>\n",
       "      <td>...</td>\n",
       "      <td>...</td>\n",
       "      <td>...</td>\n",
       "      <td>...</td>\n",
       "      <td>...</td>\n",
       "      <td>...</td>\n",
       "      <td>...</td>\n",
       "      <td>...</td>\n",
       "      <td>...</td>\n",
       "      <td>...</td>\n",
       "      <td>...</td>\n",
       "      <td>...</td>\n",
       "      <td>...</td>\n",
       "    </tr>\n",
       "    <tr>\n",
       "      <th>6801</th>\n",
       "      <td>'1751933820863918386'</td>\n",
       "      <td>▶ #President @perearagones: \"Farem de l'@hospi...</td>\n",
       "      <td>ca</td>\n",
       "      <td>Retweet</td>\n",
       "      <td>2</td>\n",
       "      <td>68</td>\n",
       "      <td>29</td>\n",
       "      <td>65</td>\n",
       "      <td>16825.0</td>\n",
       "      <td>2024-01-29 12:42:26</td>\n",
       "      <td>&lt;a href=\"https://www.hootsuite.com\" rel=\"nofol...</td>\n",
       "      <td>#President</td>\n",
       "      <td>NaN</td>\n",
       "      <td>video</td>\n",
       "      <td>https://video.twimg.com/ext_tw_video/175193372...</td>\n",
       "      <td>erc</td>\n",
       "      <td>2024-01-29</td>\n",
       "    </tr>\n",
       "    <tr>\n",
       "      <th>6802</th>\n",
       "      <td>'1751943795850010914'</td>\n",
       "      <td>🎥 \"Demostrem que tots els avenços que planteja...</td>\n",
       "      <td>ca</td>\n",
       "      <td>Tweet</td>\n",
       "      <td>1</td>\n",
       "      <td>71</td>\n",
       "      <td>38</td>\n",
       "      <td>32</td>\n",
       "      <td>3960.0</td>\n",
       "      <td>2024-01-29 13:22:05</td>\n",
       "      <td>&lt;a href=\"https://mobile.twitter.com\" rel=\"nofo...</td>\n",
       "      <td>NaN</td>\n",
       "      <td>NaN</td>\n",
       "      <td>video</td>\n",
       "      <td>https://video.twimg.com/ext_tw_video/175194158...</td>\n",
       "      <td>erc</td>\n",
       "      <td>2024-01-29</td>\n",
       "    </tr>\n",
       "    <tr>\n",
       "      <th>6803</th>\n",
       "      <td>'1751941443629826254'</td>\n",
       "      <td>🎥 @raquelsans en roda de premsa: \"Demà s'aprov...</td>\n",
       "      <td>ca</td>\n",
       "      <td>Tweet</td>\n",
       "      <td>1</td>\n",
       "      <td>52</td>\n",
       "      <td>26</td>\n",
       "      <td>61</td>\n",
       "      <td>5253.0</td>\n",
       "      <td>2024-01-29 13:12:44</td>\n",
       "      <td>&lt;a href=\"https://mobile.twitter.com\" rel=\"nofo...</td>\n",
       "      <td>NaN</td>\n",
       "      <td>NaN</td>\n",
       "      <td>video</td>\n",
       "      <td>https://video.twimg.com/ext_tw_video/175193970...</td>\n",
       "      <td>erc</td>\n",
       "      <td>2024-01-29</td>\n",
       "    </tr>\n",
       "    <tr>\n",
       "      <th>6804</th>\n",
       "      <td>'1751916784058355798'</td>\n",
       "      <td>Per què era necessari un Pla d’Acció contra la...</td>\n",
       "      <td>ca</td>\n",
       "      <td>Retweet</td>\n",
       "      <td>2</td>\n",
       "      <td>43</td>\n",
       "      <td>18</td>\n",
       "      <td>101</td>\n",
       "      <td>8587.0</td>\n",
       "      <td>2024-01-29 11:34:45</td>\n",
       "      <td>&lt;a href=\"http://twitter.com/download/iphone\" r...</td>\n",
       "      <td>#PressióEstètica</td>\n",
       "      <td>https://educa.barcelona/2024/01/29/agenda-dels...</td>\n",
       "      <td>NaN</td>\n",
       "      <td>NaN</td>\n",
       "      <td>erc</td>\n",
       "      <td>2024-01-29</td>\n",
       "    </tr>\n",
       "    <tr>\n",
       "      <th>6805</th>\n",
       "      <td>'1751645999691378774'</td>\n",
       "      <td>Canvis al protocol de Mossos a partir de la re...</td>\n",
       "      <td>ca</td>\n",
       "      <td>Retweet</td>\n",
       "      <td>0</td>\n",
       "      <td>41</td>\n",
       "      <td>15</td>\n",
       "      <td>2</td>\n",
       "      <td>2716.0</td>\n",
       "      <td>2024-01-28 17:38:44</td>\n",
       "      <td>&lt;a href=\"http://twitter.com/download/android\" ...</td>\n",
       "      <td>NaN</td>\n",
       "      <td>https://www.elperiodico.com/es/sabadell/202401...</td>\n",
       "      <td>NaN</td>\n",
       "      <td>NaN</td>\n",
       "      <td>erc</td>\n",
       "      <td>2024-01-28</td>\n",
       "    </tr>\n",
       "  </tbody>\n",
       "</table>\n",
       "<p>5267 rows × 17 columns</p>\n",
       "</div>"
      ],
      "text/plain": [
       "                   tweet_id  \\\n",
       "0     '1769681071916953887'   \n",
       "1     '1769674784646869127'   \n",
       "2     '1769422825750704520'   \n",
       "3     '1769457554910802430'   \n",
       "4     '1769375348955709791'   \n",
       "...                     ...   \n",
       "6801  '1751933820863918386'   \n",
       "6802  '1751943795850010914'   \n",
       "6803  '1751941443629826254'   \n",
       "6804  '1751916784058355798'   \n",
       "6805  '1751645999691378774'   \n",
       "\n",
       "                                                   text llengua    tipus  \\\n",
       "0     🍒 COMUNA  DE PARÍS\\n\\n#TalDiaComAvui de 1871 s...      ca  Retweet   \n",
       "1     🔸Lamentem el crim de la treballadora del CP Ma...      ca    Tweet   \n",
       "2     D'aquí poc el PSC s'omplirà la boca de la defe...      ca  Retweet   \n",
       "3     \"No podran res davant d'un poble unit, alegre ...      ca    Tweet   \n",
       "4     Per rellançar la precarietat al Camp.\\nPer con...      ca  Retweet   \n",
       "...                                                 ...     ...      ...   \n",
       "6801  ▶ #President @perearagones: \"Farem de l'@hospi...      ca  Retweet   \n",
       "6802  🎥 \"Demostrem que tots els avenços que planteja...      ca    Tweet   \n",
       "6803  🎥 @raquelsans en roda de premsa: \"Demà s'aprov...      ca    Tweet   \n",
       "6804  Per què era necessari un Pla d’Acció contra la...      ca  Retweet   \n",
       "6805  Canvis al protocol de Mossos a partir de la re...      ca  Retweet   \n",
       "\n",
       "      preferits  magraden  retweets  respostes   vistes               creat  \\\n",
       "0             0        26        15          0   2377.0 2024-03-18 12:03:41   \n",
       "1             1        72        17         91  20308.0 2024-03-18 11:38:42   \n",
       "2             0        79        60          1   7720.0 2024-03-17 18:57:30   \n",
       "3             4       145        55          2  10644.0 2024-03-17 21:15:30   \n",
       "4             1        71        24          5   5762.0 2024-03-17 15:48:51   \n",
       "...         ...       ...       ...        ...      ...                 ...   \n",
       "6801          2        68        29         65  16825.0 2024-01-29 12:42:26   \n",
       "6802          1        71        38         32   3960.0 2024-01-29 13:22:05   \n",
       "6803          1        52        26         61   5253.0 2024-01-29 13:12:44   \n",
       "6804          2        43        18        101   8587.0 2024-01-29 11:34:45   \n",
       "6805          0        41        15          2   2716.0 2024-01-28 17:38:44   \n",
       "\n",
       "                                                 client          hashtags  \\\n",
       "0     <a href=\"https://mobile.twitter.com\" rel=\"nofo...    #TalDiaComAvui   \n",
       "1     <a href=\"https://mobile.twitter.com\" rel=\"nofo...               NaN   \n",
       "2     <a href=\"http://twitter.com/download/android\" ...               NaN   \n",
       "3     <a href=\"https://mobile.twitter.com\" rel=\"nofo...               NaN   \n",
       "4     <a href=\"http://twitter.com/download/android\" ...               NaN   \n",
       "...                                                 ...               ...   \n",
       "6801  <a href=\"https://www.hootsuite.com\" rel=\"nofol...        #President   \n",
       "6802  <a href=\"https://mobile.twitter.com\" rel=\"nofo...               NaN   \n",
       "6803  <a href=\"https://mobile.twitter.com\" rel=\"nofo...               NaN   \n",
       "6804  <a href=\"http://twitter.com/download/iphone\" r...  #PressióEstètica   \n",
       "6805  <a href=\"http://twitter.com/download/android\" ...               NaN   \n",
       "\n",
       "                                                   urls  media  \\\n",
       "0                                                   NaN  photo   \n",
       "1                                                   NaN    NaN   \n",
       "2                                                   NaN    NaN   \n",
       "3                                                   NaN  photo   \n",
       "4                                                   NaN    NaN   \n",
       "...                                                 ...    ...   \n",
       "6801                                                NaN  video   \n",
       "6802                                                NaN  video   \n",
       "6803                                                NaN  video   \n",
       "6804  https://educa.barcelona/2024/01/29/agenda-dels...    NaN   \n",
       "6805  https://www.elperiodico.com/es/sabadell/202401...    NaN   \n",
       "\n",
       "                                             media_urls partit       data  \n",
       "0       https://pbs.twimg.com/media/GI8rYMyWIAAPNgP.jpg    cup 2024-03-18  \n",
       "1                                                   NaN    cup 2024-03-18  \n",
       "2                                                   NaN    cup 2024-03-17  \n",
       "3       https://pbs.twimg.com/media/GI5dRu6XkAEnmh7.jpg    cup 2024-03-17  \n",
       "4                                                   NaN    cup 2024-03-17  \n",
       "...                                                 ...    ...        ...  \n",
       "6801  https://video.twimg.com/ext_tw_video/175193372...    erc 2024-01-29  \n",
       "6802  https://video.twimg.com/ext_tw_video/175194158...    erc 2024-01-29  \n",
       "6803  https://video.twimg.com/ext_tw_video/175193970...    erc 2024-01-29  \n",
       "6804                                                NaN    erc 2024-01-29  \n",
       "6805                                                NaN    erc 2024-01-28  \n",
       "\n",
       "[5267 rows x 17 columns]"
      ]
     },
     "execution_count": 9,
     "metadata": {},
     "output_type": "execute_result"
    }
   ],
   "source": [
    "df"
   ]
  },
  {
   "cell_type": "code",
   "execution_count": 10,
   "id": "1d233e22-1610-45fa-b074-cbfea8439585",
   "metadata": {},
   "outputs": [
    {
     "data": {
      "text/html": [
       "<div>\n",
       "<style scoped>\n",
       "    .dataframe tbody tr th:only-of-type {\n",
       "        vertical-align: middle;\n",
       "    }\n",
       "\n",
       "    .dataframe tbody tr th {\n",
       "        vertical-align: top;\n",
       "    }\n",
       "\n",
       "    .dataframe thead th {\n",
       "        text-align: right;\n",
       "    }\n",
       "</style>\n",
       "<table border=\"1\" class=\"dataframe\">\n",
       "  <thead>\n",
       "    <tr style=\"text-align: right;\">\n",
       "      <th></th>\n",
       "      <th>count</th>\n",
       "      <th>mean</th>\n",
       "      <th>std</th>\n",
       "      <th>min</th>\n",
       "      <th>25%</th>\n",
       "      <th>50%</th>\n",
       "      <th>75%</th>\n",
       "      <th>max</th>\n",
       "    </tr>\n",
       "    <tr>\n",
       "      <th>partit</th>\n",
       "      <th></th>\n",
       "      <th></th>\n",
       "      <th></th>\n",
       "      <th></th>\n",
       "      <th></th>\n",
       "      <th></th>\n",
       "      <th></th>\n",
       "      <th></th>\n",
       "    </tr>\n",
       "  </thead>\n",
       "  <tbody>\n",
       "    <tr>\n",
       "      <th>ecp</th>\n",
       "      <td>54.0</td>\n",
       "      <td>18.259259</td>\n",
       "      <td>11.731566</td>\n",
       "      <td>2.0</td>\n",
       "      <td>8.25</td>\n",
       "      <td>15.0</td>\n",
       "      <td>26.00</td>\n",
       "      <td>48.0</td>\n",
       "    </tr>\n",
       "    <tr>\n",
       "      <th>erc</th>\n",
       "      <td>51.0</td>\n",
       "      <td>17.882353</td>\n",
       "      <td>8.396778</td>\n",
       "      <td>1.0</td>\n",
       "      <td>12.00</td>\n",
       "      <td>17.0</td>\n",
       "      <td>24.00</td>\n",
       "      <td>34.0</td>\n",
       "    </tr>\n",
       "    <tr>\n",
       "      <th>jxc</th>\n",
       "      <td>56.0</td>\n",
       "      <td>17.071429</td>\n",
       "      <td>10.407789</td>\n",
       "      <td>1.0</td>\n",
       "      <td>9.00</td>\n",
       "      <td>16.0</td>\n",
       "      <td>23.25</td>\n",
       "      <td>44.0</td>\n",
       "    </tr>\n",
       "    <tr>\n",
       "      <th>psc</th>\n",
       "      <td>71.0</td>\n",
       "      <td>13.774648</td>\n",
       "      <td>7.514172</td>\n",
       "      <td>2.0</td>\n",
       "      <td>8.00</td>\n",
       "      <td>14.0</td>\n",
       "      <td>18.00</td>\n",
       "      <td>35.0</td>\n",
       "    </tr>\n",
       "    <tr>\n",
       "      <th>cup</th>\n",
       "      <td>70.0</td>\n",
       "      <td>13.100000</td>\n",
       "      <td>7.558755</td>\n",
       "      <td>2.0</td>\n",
       "      <td>7.00</td>\n",
       "      <td>12.0</td>\n",
       "      <td>17.00</td>\n",
       "      <td>35.0</td>\n",
       "    </tr>\n",
       "    <tr>\n",
       "      <th>vox</th>\n",
       "      <td>66.0</td>\n",
       "      <td>4.833333</td>\n",
       "      <td>4.108465</td>\n",
       "      <td>1.0</td>\n",
       "      <td>2.00</td>\n",
       "      <td>4.0</td>\n",
       "      <td>7.00</td>\n",
       "      <td>23.0</td>\n",
       "    </tr>\n",
       "    <tr>\n",
       "      <th>pp</th>\n",
       "      <td>66.0</td>\n",
       "      <td>3.015152</td>\n",
       "      <td>1.723078</td>\n",
       "      <td>1.0</td>\n",
       "      <td>2.00</td>\n",
       "      <td>3.0</td>\n",
       "      <td>4.00</td>\n",
       "      <td>8.0</td>\n",
       "    </tr>\n",
       "  </tbody>\n",
       "</table>\n",
       "</div>"
      ],
      "text/plain": [
       "        count       mean        std  min    25%   50%    75%   max\n",
       "partit                                                            \n",
       "ecp      54.0  18.259259  11.731566  2.0   8.25  15.0  26.00  48.0\n",
       "erc      51.0  17.882353   8.396778  1.0  12.00  17.0  24.00  34.0\n",
       "jxc      56.0  17.071429  10.407789  1.0   9.00  16.0  23.25  44.0\n",
       "psc      71.0  13.774648   7.514172  2.0   8.00  14.0  18.00  35.0\n",
       "cup      70.0  13.100000   7.558755  2.0   7.00  12.0  17.00  35.0\n",
       "vox      66.0   4.833333   4.108465  1.0   2.00   4.0   7.00  23.0\n",
       "pp       66.0   3.015152   1.723078  1.0   2.00   3.0   4.00   8.0"
      ]
     },
     "execution_count": 10,
     "metadata": {},
     "output_type": "execute_result"
    }
   ],
   "source": [
    "_ = df.groupby(['data', 'partit'])['tweet_id'].count().reset_index(name='piulades')\n",
    "_.groupby('partit')['piulades'].describe().sort_values(by='mean', ascending=False)"
   ]
  },
  {
   "cell_type": "code",
   "execution_count": 82,
   "id": "effbd966-80d4-4da9-a1d5-a5c4067e0bd5",
   "metadata": {},
   "outputs": [
    {
     "data": {
      "application/vnd.plotly.v1+json": {
       "config": {
        "plotlyServerURL": "https://plot.ly"
       },
       "data": [
        {
         "marker": {
          "color": "#f7dc6f"
         },
         "name": "cup",
         "showlegend": false,
         "type": "box",
         "width": 0.6,
         "xaxis": "x3",
         "y": [
          3,
          12,
          18,
          8,
          11,
          7,
          8,
          14,
          17,
          11,
          17,
          17,
          4,
          6,
          15,
          35,
          12,
          14,
          4,
          6,
          20,
          15,
          14,
          26,
          16,
          17,
          6,
          12,
          27,
          30,
          18,
          7,
          5,
          6,
          8,
          23,
          15,
          11,
          16,
          7,
          3,
          9,
          18,
          12,
          22,
          14,
          6,
          10,
          7,
          21,
          17,
          13,
          22,
          2,
          4,
          11,
          19,
          18,
          26,
          34,
          7,
          9,
          11,
          10,
          20,
          16,
          8,
          3,
          5,
          2
         ],
         "yaxis": "y3"
        },
        {
         "marker": {
          "color": "#f7dc6f"
         },
         "name": "cup",
         "showlegend": true,
         "type": "box",
         "visible": true,
         "width": 0.6,
         "xaxis": "x",
         "y": [
          3,
          4,
          4,
          2,
          2,
          4,
          2,
          4,
          6,
          3,
          2,
          4,
          9,
          3,
          3,
          3,
          3,
          3,
          2,
          5,
          3,
          4,
          1,
          2,
          7,
          9,
          7,
          4,
          1,
          4,
          3,
          6,
          5,
          2,
          2,
          2,
          4,
          7,
          5,
          5,
          5,
          2,
          1,
          1,
          6,
          5,
          1,
          3,
          2,
          2,
          4,
          6,
          3,
          6,
          2,
          3,
          1,
          1,
          3,
          5,
          3,
          2,
          1,
          1
         ],
         "yaxis": "y"
        },
        {
         "marker": {
          "color": "#f7dc6f"
         },
         "name": "cup",
         "showlegend": false,
         "type": "box",
         "width": 0.6,
         "xaxis": "x2",
         "y": [
          3,
          8,
          14,
          8,
          7,
          5,
          6,
          10,
          13,
          7,
          8,
          13,
          4,
          4,
          10,
          24,
          6,
          9,
          4,
          3,
          17,
          11,
          12,
          21,
          12,
          13,
          5,
          10,
          19,
          20,
          8,
          3,
          5,
          4,
          4,
          19,
          9,
          6,
          14,
          3,
          1,
          5,
          11,
          7,
          12,
          5,
          3,
          9,
          6,
          15,
          12,
          12,
          19,
          2,
          7,
          12,
          15,
          13,
          30,
          4,
          8,
          10,
          7,
          15,
          11,
          6,
          2,
          4,
          1
         ],
         "yaxis": "y2"
        },
        {
         "marker": {
          "color": "#a569bd"
         },
         "name": "ecp",
         "showlegend": false,
         "type": "box",
         "width": 0.6,
         "xaxis": "x3",
         "y": [
          6,
          23,
          3,
          7,
          15,
          26,
          17,
          32,
          9,
          5,
          9,
          13,
          26,
          30,
          31,
          15,
          9,
          13,
          11,
          23,
          14,
          8,
          7,
          6,
          3,
          5,
          25,
          26,
          25,
          25,
          8,
          10,
          24,
          35,
          27,
          29,
          20,
          6,
          5,
          18,
          23,
          40,
          20,
          32,
          12,
          4,
          14,
          39,
          42,
          46,
          35,
          12,
          2,
          11
         ],
         "yaxis": "y3"
        },
        {
         "marker": {
          "color": "#a569bd"
         },
         "name": "ecp",
         "showlegend": true,
         "type": "box",
         "visible": true,
         "width": 0.6,
         "xaxis": "x",
         "y": [
          4,
          11,
          2,
          9,
          18,
          8,
          14,
          5,
          3,
          4,
          3,
          19,
          20,
          21,
          11,
          4,
          4,
          2,
          11,
          6,
          1,
          2,
          1,
          2,
          16,
          16,
          17,
          15,
          3,
          3,
          14,
          23,
          19,
          21,
          11,
          3,
          3,
          9,
          16,
          21,
          11,
          15,
          4,
          1,
          6,
          25,
          32,
          29,
          17,
          8,
          1,
          9
         ],
         "yaxis": "y"
        },
        {
         "marker": {
          "color": "#a569bd"
         },
         "name": "ecp",
         "showlegend": false,
         "type": "box",
         "width": 0.6,
         "xaxis": "x2",
         "y": [
          2,
          12,
          3,
          5,
          6,
          8,
          9,
          18,
          4,
          2,
          5,
          10,
          7,
          10,
          10,
          4,
          5,
          9,
          9,
          12,
          8,
          8,
          6,
          4,
          2,
          3,
          9,
          10,
          8,
          8,
          5,
          7,
          10,
          12,
          8,
          8,
          9,
          3,
          2,
          9,
          7,
          19,
          9,
          17,
          8,
          3,
          8,
          14,
          8,
          17,
          18,
          4,
          1,
          2
         ],
         "yaxis": "y2"
        },
        {
         "marker": {
          "color": "#f39c12"
         },
         "name": "erc",
         "showlegend": false,
         "type": "box",
         "width": 0.6,
         "xaxis": "x3",
         "y": [
          1,
          14,
          32,
          34,
          15,
          15,
          6,
          8,
          13,
          18,
          25,
          14,
          21,
          1,
          8,
          11,
          26,
          23,
          22,
          13,
          5,
          17,
          11,
          23,
          24,
          28,
          25,
          7,
          20,
          11,
          24,
          31,
          31,
          21,
          14,
          13,
          24,
          15,
          34,
          27,
          28,
          10,
          10,
          15,
          19,
          17,
          25,
          16,
          20,
          7,
          15
         ],
         "yaxis": "y3"
        },
        {
         "marker": {
          "color": "#f39c12"
         },
         "name": "erc",
         "showlegend": true,
         "type": "box",
         "width": 0.6,
         "xaxis": "x",
         "y": [
          3,
          15,
          9,
          4,
          4,
          2,
          1,
          3,
          4,
          4,
          2,
          3,
          1,
          4,
          6,
          5,
          12,
          1,
          1,
          4,
          4,
          11,
          6,
          9,
          5,
          1,
          4,
          6,
          6,
          10,
          12,
          5,
          5,
          4,
          7,
          6,
          14,
          9,
          9,
          3,
          3,
          7,
          6,
          13,
          5,
          6,
          2,
          2,
          10
         ],
         "yaxis": "y"
        },
        {
         "marker": {
          "color": "#f39c12"
         },
         "name": "erc",
         "showlegend": false,
         "type": "box",
         "width": 0.6,
         "xaxis": "x2",
         "y": [
          1,
          11,
          15,
          20,
          11,
          11,
          4,
          7,
          10,
          12,
          18,
          9,
          18,
          1,
          7,
          7,
          15,
          18,
          10,
          12,
          4,
          13,
          7,
          12,
          16,
          19,
          20,
          6,
          14,
          5,
          18,
          19,
          15,
          16,
          9,
          9,
          17,
          9,
          15,
          14,
          17,
          7,
          7,
          8,
          11,
          4,
          17,
          7,
          15,
          5,
          5
         ],
         "yaxis": "y2"
        },
        {
         "marker": {
          "color": "#82e0aa"
         },
         "name": "jxc",
         "showlegend": false,
         "type": "box",
         "width": 0.6,
         "xaxis": "x3",
         "y": [
          3,
          20,
          32,
          13,
          6,
          7,
          9,
          24,
          25,
          25,
          22,
          13,
          10,
          25,
          36,
          44,
          23,
          8,
          3,
          12,
          18,
          9,
          17,
          20,
          10,
          3,
          3,
          13,
          18,
          22,
          27,
          6,
          25,
          6,
          12,
          16,
          22,
          20,
          8,
          11,
          1,
          16,
          13,
          16,
          37,
          36,
          21,
          8,
          17,
          25,
          35,
          37,
          12,
          4,
          12,
          12
         ],
         "yaxis": "y3"
        },
        {
         "marker": {
          "color": "#82e0aa"
         },
         "name": "jxc",
         "showlegend": true,
         "type": "box",
         "visible": true,
         "width": 0.6,
         "xaxis": "x",
         "y": [
          7,
          5,
          2,
          2,
          3,
          1,
          6,
          10,
          14,
          4,
          3,
          1,
          6,
          7,
          3,
          1,
          1,
          2,
          2,
          10,
          1,
          3,
          5,
          1,
          1,
          7,
          4,
          4,
          8,
          1,
          6,
          2,
          1,
          1,
          6,
          6,
          1,
          6,
          1,
          2,
          1,
          3,
          18,
          15,
          10,
          4,
          9,
          4,
          15,
          14,
          3,
          1,
          4,
          5
         ],
         "yaxis": "y"
        },
        {
         "marker": {
          "color": "#82e0aa"
         },
         "name": "jxc",
         "showlegend": false,
         "type": "box",
         "width": 0.6,
         "xaxis": "x2",
         "y": [
          3,
          13,
          27,
          11,
          4,
          4,
          8,
          18,
          15,
          11,
          18,
          10,
          9,
          19,
          29,
          41,
          22,
          7,
          1,
          10,
          8,
          9,
          16,
          17,
          5,
          2,
          2,
          6,
          14,
          18,
          19,
          5,
          16,
          4,
          11,
          15,
          16,
          14,
          7,
          5,
          14,
          10,
          13,
          19,
          21,
          8,
          4,
          8,
          21,
          20,
          23,
          9,
          3,
          8,
          7
         ],
         "yaxis": "y2"
        },
        {
         "marker": {
          "color": "#2471a3"
         },
         "name": "pp",
         "showlegend": false,
         "type": "box",
         "width": 0.6,
         "xaxis": "x3",
         "y": [
          1,
          3,
          2,
          2,
          3,
          3,
          3,
          4,
          2,
          2,
          2,
          4,
          4,
          6,
          3,
          2,
          2,
          4,
          1,
          2,
          5,
          2,
          4,
          3,
          8,
          4,
          8,
          4,
          3,
          1,
          2,
          3,
          4,
          3,
          1,
          2,
          5,
          1,
          2,
          2,
          2,
          8,
          6,
          6,
          5,
          4,
          4,
          2,
          3,
          2,
          2,
          1,
          3,
          2,
          3,
          5,
          3,
          1,
          2,
          1,
          4,
          2,
          1,
          3,
          1,
          1
         ],
         "yaxis": "y3"
        },
        {
         "marker": {
          "color": "#2471a3"
         },
         "name": "pp",
         "showlegend": true,
         "type": "box",
         "width": 0.6,
         "xaxis": "x",
         "y": [
          1,
          1,
          2,
          1,
          2,
          1,
          1,
          1,
          2,
          1,
          2,
          1
         ],
         "yaxis": "y"
        },
        {
         "marker": {
          "color": "#2471a3"
         },
         "name": "pp",
         "showlegend": false,
         "type": "box",
         "width": 0.6,
         "xaxis": "x2",
         "y": [
          1,
          3,
          2,
          1,
          3,
          3,
          3,
          4,
          2,
          2,
          1,
          4,
          4,
          6,
          3,
          2,
          2,
          4,
          1,
          2,
          3,
          2,
          4,
          3,
          8,
          4,
          8,
          3,
          3,
          1,
          2,
          3,
          2,
          2,
          1,
          2,
          5,
          1,
          1,
          2,
          2,
          7,
          4,
          6,
          5,
          4,
          4,
          2,
          3,
          2,
          2,
          1,
          2,
          2,
          3,
          3,
          3,
          1,
          2,
          1,
          4,
          1,
          1,
          3,
          1,
          1
         ],
         "yaxis": "y2"
        },
        {
         "marker": {
          "color": "#c0392b"
         },
         "name": "psc",
         "showlegend": false,
         "type": "box",
         "width": 0.6,
         "xaxis": "x3",
         "y": [
          3,
          8,
          20,
          21,
          5,
          6,
          5,
          14,
          12,
          5,
          14,
          5,
          3,
          15,
          14,
          21,
          17,
          10,
          14,
          12,
          8,
          17,
          11,
          11,
          9,
          6,
          6,
          12,
          24,
          6,
          11,
          6,
          15,
          12,
          14,
          21,
          17,
          20,
          8,
          6,
          15,
          9,
          7,
          13,
          16,
          18,
          23,
          14,
          8,
          18,
          20,
          18,
          15,
          16,
          10,
          2,
          18,
          16,
          11,
          20,
          30,
          7,
          3,
          14,
          5,
          23,
          22,
          34,
          34,
          34,
          18
         ],
         "yaxis": "y3"
        },
        {
         "marker": {
          "color": "#c0392b"
         },
         "name": "psc",
         "showlegend": true,
         "type": "box",
         "width": 0.6,
         "xaxis": "x",
         "y": [
          1,
          6,
          8,
          13,
          1,
          1,
          2,
          5,
          6,
          1,
          7,
          3,
          1,
          2,
          8,
          12,
          13,
          4,
          9,
          5,
          5,
          11,
          8,
          6,
          6,
          3,
          2,
          7,
          13,
          3,
          8,
          3,
          9,
          5,
          4,
          17,
          12,
          11,
          3,
          14,
          6,
          2,
          10,
          9,
          14,
          16,
          10,
          4,
          11,
          16,
          11,
          10,
          10,
          8,
          14,
          11,
          8,
          8,
          13,
          3,
          1,
          9,
          3,
          15,
          11,
          28,
          26,
          19,
          13
         ],
         "yaxis": "y"
        },
        {
         "marker": {
          "color": "#c0392b"
         },
         "name": "psc",
         "showlegend": false,
         "type": "box",
         "width": 0.6,
         "xaxis": "x2",
         "y": [
          2,
          12,
          6,
          4,
          5,
          3,
          9,
          6,
          4,
          7,
          2,
          2,
          13,
          6,
          9,
          4,
          6,
          5,
          7,
          3,
          6,
          3,
          5,
          3,
          3,
          4,
          5,
          11,
          3,
          3,
          3,
          6,
          7,
          10,
          4,
          5,
          9,
          3,
          4,
          1,
          3,
          5,
          3,
          7,
          4,
          5,
          4,
          4,
          7,
          2,
          7,
          5,
          6,
          2,
          2,
          4,
          5,
          3,
          12,
          12,
          4,
          2,
          5,
          2,
          8,
          11,
          6,
          8,
          13,
          5
         ],
         "yaxis": "y2"
        },
        {
         "marker": {
          "color": "#229954"
         },
         "name": "vox",
         "showlegend": false,
         "type": "box",
         "width": 0.6,
         "xaxis": "x3",
         "y": [
          3,
          1,
          1,
          3,
          3,
          2,
          5,
          2,
          2,
          2,
          2,
          4,
          5,
          1,
          1,
          4,
          8,
          6,
          2,
          4,
          1,
          3,
          4,
          10,
          4,
          1,
          5,
          6,
          5,
          11,
          2,
          1,
          1,
          5,
          8,
          4,
          6,
          2,
          1,
          1,
          9,
          9,
          8,
          2,
          3,
          4,
          3,
          9,
          3,
          2,
          1,
          1,
          10,
          7,
          10,
          4,
          1,
          3,
          3,
          9,
          10,
          11,
          14,
          7,
          2,
          8
         ],
         "yaxis": "y3"
        },
        {
         "marker": {
          "color": "#229954"
         },
         "name": "vox",
         "showlegend": true,
         "type": "box",
         "width": 0.6,
         "xaxis": "x",
         "y": [
          2,
          1,
          3,
          1,
          1,
          2,
          1,
          1,
          2,
          1,
          2,
          1,
          1,
          3,
          7,
          5,
          1,
          2,
          1,
          3,
          3,
          10,
          4,
          4,
          4,
          4,
          9,
          1,
          1,
          1,
          4,
          5,
          2,
          6,
          2,
          1,
          7,
          7,
          7,
          2,
          2,
          4,
          3,
          6,
          3,
          2,
          1,
          8,
          5,
          9,
          4,
          3,
          3,
          8,
          7,
          7,
          8,
          1,
          1,
          4
         ],
         "yaxis": "y"
        },
        {
         "marker": {
          "color": "#229954"
         },
         "name": "vox",
         "showlegend": false,
         "type": "box",
         "width": 0.6,
         "xaxis": "x2",
         "y": [
          1,
          1,
          2,
          1,
          3,
          1,
          1,
          1,
          2,
          4,
          1,
          1,
          1,
          1,
          1,
          2,
          1,
          1,
          1,
          1,
          1,
          1,
          3,
          2,
          1,
          2,
          2,
          1,
          3,
          1,
          2,
          2,
          1,
          1,
          1,
          3,
          4,
          6,
          6,
          1,
          4
         ],
         "yaxis": "y2"
        }
       ],
       "layout": {
        "annotations": [
         {
          "font": {
           "size": 16
          },
          "showarrow": false,
          "text": "Publicacions diàries",
          "x": 0.14444444444444446,
          "xanchor": "center",
          "xref": "paper",
          "y": 1,
          "yanchor": "bottom",
          "yref": "paper"
         },
         {
          "font": {
           "size": 16
          },
          "showarrow": false,
          "text": "Tweets diaris",
          "x": 0.5,
          "xanchor": "center",
          "xref": "paper",
          "y": 1,
          "yanchor": "bottom",
          "yref": "paper"
         },
         {
          "font": {
           "size": 16
          },
          "showarrow": false,
          "text": "Retweets diaris",
          "x": 0.8555555555555556,
          "xanchor": "center",
          "xref": "paper",
          "y": 1,
          "yanchor": "bottom",
          "yref": "paper"
         }
        ],
        "boxmode": "group",
        "height": 500,
        "template": {
         "data": {
          "bar": [
           {
            "error_x": {
             "color": "#2a3f5f"
            },
            "error_y": {
             "color": "#2a3f5f"
            },
            "marker": {
             "line": {
              "color": "#E5ECF6",
              "width": 0.5
             },
             "pattern": {
              "fillmode": "overlay",
              "size": 10,
              "solidity": 0.2
             }
            },
            "type": "bar"
           }
          ],
          "barpolar": [
           {
            "marker": {
             "line": {
              "color": "#E5ECF6",
              "width": 0.5
             },
             "pattern": {
              "fillmode": "overlay",
              "size": 10,
              "solidity": 0.2
             }
            },
            "type": "barpolar"
           }
          ],
          "carpet": [
           {
            "aaxis": {
             "endlinecolor": "#2a3f5f",
             "gridcolor": "white",
             "linecolor": "white",
             "minorgridcolor": "white",
             "startlinecolor": "#2a3f5f"
            },
            "baxis": {
             "endlinecolor": "#2a3f5f",
             "gridcolor": "white",
             "linecolor": "white",
             "minorgridcolor": "white",
             "startlinecolor": "#2a3f5f"
            },
            "type": "carpet"
           }
          ],
          "choropleth": [
           {
            "colorbar": {
             "outlinewidth": 0,
             "ticks": ""
            },
            "type": "choropleth"
           }
          ],
          "contour": [
           {
            "colorbar": {
             "outlinewidth": 0,
             "ticks": ""
            },
            "colorscale": [
             [
              0,
              "#0d0887"
             ],
             [
              0.1111111111111111,
              "#46039f"
             ],
             [
              0.2222222222222222,
              "#7201a8"
             ],
             [
              0.3333333333333333,
              "#9c179e"
             ],
             [
              0.4444444444444444,
              "#bd3786"
             ],
             [
              0.5555555555555556,
              "#d8576b"
             ],
             [
              0.6666666666666666,
              "#ed7953"
             ],
             [
              0.7777777777777778,
              "#fb9f3a"
             ],
             [
              0.8888888888888888,
              "#fdca26"
             ],
             [
              1,
              "#f0f921"
             ]
            ],
            "type": "contour"
           }
          ],
          "contourcarpet": [
           {
            "colorbar": {
             "outlinewidth": 0,
             "ticks": ""
            },
            "type": "contourcarpet"
           }
          ],
          "heatmap": [
           {
            "colorbar": {
             "outlinewidth": 0,
             "ticks": ""
            },
            "colorscale": [
             [
              0,
              "#0d0887"
             ],
             [
              0.1111111111111111,
              "#46039f"
             ],
             [
              0.2222222222222222,
              "#7201a8"
             ],
             [
              0.3333333333333333,
              "#9c179e"
             ],
             [
              0.4444444444444444,
              "#bd3786"
             ],
             [
              0.5555555555555556,
              "#d8576b"
             ],
             [
              0.6666666666666666,
              "#ed7953"
             ],
             [
              0.7777777777777778,
              "#fb9f3a"
             ],
             [
              0.8888888888888888,
              "#fdca26"
             ],
             [
              1,
              "#f0f921"
             ]
            ],
            "type": "heatmap"
           }
          ],
          "heatmapgl": [
           {
            "colorbar": {
             "outlinewidth": 0,
             "ticks": ""
            },
            "colorscale": [
             [
              0,
              "#0d0887"
             ],
             [
              0.1111111111111111,
              "#46039f"
             ],
             [
              0.2222222222222222,
              "#7201a8"
             ],
             [
              0.3333333333333333,
              "#9c179e"
             ],
             [
              0.4444444444444444,
              "#bd3786"
             ],
             [
              0.5555555555555556,
              "#d8576b"
             ],
             [
              0.6666666666666666,
              "#ed7953"
             ],
             [
              0.7777777777777778,
              "#fb9f3a"
             ],
             [
              0.8888888888888888,
              "#fdca26"
             ],
             [
              1,
              "#f0f921"
             ]
            ],
            "type": "heatmapgl"
           }
          ],
          "histogram": [
           {
            "marker": {
             "pattern": {
              "fillmode": "overlay",
              "size": 10,
              "solidity": 0.2
             }
            },
            "type": "histogram"
           }
          ],
          "histogram2d": [
           {
            "colorbar": {
             "outlinewidth": 0,
             "ticks": ""
            },
            "colorscale": [
             [
              0,
              "#0d0887"
             ],
             [
              0.1111111111111111,
              "#46039f"
             ],
             [
              0.2222222222222222,
              "#7201a8"
             ],
             [
              0.3333333333333333,
              "#9c179e"
             ],
             [
              0.4444444444444444,
              "#bd3786"
             ],
             [
              0.5555555555555556,
              "#d8576b"
             ],
             [
              0.6666666666666666,
              "#ed7953"
             ],
             [
              0.7777777777777778,
              "#fb9f3a"
             ],
             [
              0.8888888888888888,
              "#fdca26"
             ],
             [
              1,
              "#f0f921"
             ]
            ],
            "type": "histogram2d"
           }
          ],
          "histogram2dcontour": [
           {
            "colorbar": {
             "outlinewidth": 0,
             "ticks": ""
            },
            "colorscale": [
             [
              0,
              "#0d0887"
             ],
             [
              0.1111111111111111,
              "#46039f"
             ],
             [
              0.2222222222222222,
              "#7201a8"
             ],
             [
              0.3333333333333333,
              "#9c179e"
             ],
             [
              0.4444444444444444,
              "#bd3786"
             ],
             [
              0.5555555555555556,
              "#d8576b"
             ],
             [
              0.6666666666666666,
              "#ed7953"
             ],
             [
              0.7777777777777778,
              "#fb9f3a"
             ],
             [
              0.8888888888888888,
              "#fdca26"
             ],
             [
              1,
              "#f0f921"
             ]
            ],
            "type": "histogram2dcontour"
           }
          ],
          "mesh3d": [
           {
            "colorbar": {
             "outlinewidth": 0,
             "ticks": ""
            },
            "type": "mesh3d"
           }
          ],
          "parcoords": [
           {
            "line": {
             "colorbar": {
              "outlinewidth": 0,
              "ticks": ""
             }
            },
            "type": "parcoords"
           }
          ],
          "pie": [
           {
            "automargin": true,
            "type": "pie"
           }
          ],
          "scatter": [
           {
            "fillpattern": {
             "fillmode": "overlay",
             "size": 10,
             "solidity": 0.2
            },
            "type": "scatter"
           }
          ],
          "scatter3d": [
           {
            "line": {
             "colorbar": {
              "outlinewidth": 0,
              "ticks": ""
             }
            },
            "marker": {
             "colorbar": {
              "outlinewidth": 0,
              "ticks": ""
             }
            },
            "type": "scatter3d"
           }
          ],
          "scattercarpet": [
           {
            "marker": {
             "colorbar": {
              "outlinewidth": 0,
              "ticks": ""
             }
            },
            "type": "scattercarpet"
           }
          ],
          "scattergeo": [
           {
            "marker": {
             "colorbar": {
              "outlinewidth": 0,
              "ticks": ""
             }
            },
            "type": "scattergeo"
           }
          ],
          "scattergl": [
           {
            "marker": {
             "colorbar": {
              "outlinewidth": 0,
              "ticks": ""
             }
            },
            "type": "scattergl"
           }
          ],
          "scattermapbox": [
           {
            "marker": {
             "colorbar": {
              "outlinewidth": 0,
              "ticks": ""
             }
            },
            "type": "scattermapbox"
           }
          ],
          "scatterpolar": [
           {
            "marker": {
             "colorbar": {
              "outlinewidth": 0,
              "ticks": ""
             }
            },
            "type": "scatterpolar"
           }
          ],
          "scatterpolargl": [
           {
            "marker": {
             "colorbar": {
              "outlinewidth": 0,
              "ticks": ""
             }
            },
            "type": "scatterpolargl"
           }
          ],
          "scatterternary": [
           {
            "marker": {
             "colorbar": {
              "outlinewidth": 0,
              "ticks": ""
             }
            },
            "type": "scatterternary"
           }
          ],
          "surface": [
           {
            "colorbar": {
             "outlinewidth": 0,
             "ticks": ""
            },
            "colorscale": [
             [
              0,
              "#0d0887"
             ],
             [
              0.1111111111111111,
              "#46039f"
             ],
             [
              0.2222222222222222,
              "#7201a8"
             ],
             [
              0.3333333333333333,
              "#9c179e"
             ],
             [
              0.4444444444444444,
              "#bd3786"
             ],
             [
              0.5555555555555556,
              "#d8576b"
             ],
             [
              0.6666666666666666,
              "#ed7953"
             ],
             [
              0.7777777777777778,
              "#fb9f3a"
             ],
             [
              0.8888888888888888,
              "#fdca26"
             ],
             [
              1,
              "#f0f921"
             ]
            ],
            "type": "surface"
           }
          ],
          "table": [
           {
            "cells": {
             "fill": {
              "color": "#EBF0F8"
             },
             "line": {
              "color": "white"
             }
            },
            "header": {
             "fill": {
              "color": "#C8D4E3"
             },
             "line": {
              "color": "white"
             }
            },
            "type": "table"
           }
          ]
         },
         "layout": {
          "annotationdefaults": {
           "arrowcolor": "#2a3f5f",
           "arrowhead": 0,
           "arrowwidth": 1
          },
          "autotypenumbers": "strict",
          "coloraxis": {
           "colorbar": {
            "outlinewidth": 0,
            "ticks": ""
           }
          },
          "colorscale": {
           "diverging": [
            [
             0,
             "#8e0152"
            ],
            [
             0.1,
             "#c51b7d"
            ],
            [
             0.2,
             "#de77ae"
            ],
            [
             0.3,
             "#f1b6da"
            ],
            [
             0.4,
             "#fde0ef"
            ],
            [
             0.5,
             "#f7f7f7"
            ],
            [
             0.6,
             "#e6f5d0"
            ],
            [
             0.7,
             "#b8e186"
            ],
            [
             0.8,
             "#7fbc41"
            ],
            [
             0.9,
             "#4d9221"
            ],
            [
             1,
             "#276419"
            ]
           ],
           "sequential": [
            [
             0,
             "#0d0887"
            ],
            [
             0.1111111111111111,
             "#46039f"
            ],
            [
             0.2222222222222222,
             "#7201a8"
            ],
            [
             0.3333333333333333,
             "#9c179e"
            ],
            [
             0.4444444444444444,
             "#bd3786"
            ],
            [
             0.5555555555555556,
             "#d8576b"
            ],
            [
             0.6666666666666666,
             "#ed7953"
            ],
            [
             0.7777777777777778,
             "#fb9f3a"
            ],
            [
             0.8888888888888888,
             "#fdca26"
            ],
            [
             1,
             "#f0f921"
            ]
           ],
           "sequentialminus": [
            [
             0,
             "#0d0887"
            ],
            [
             0.1111111111111111,
             "#46039f"
            ],
            [
             0.2222222222222222,
             "#7201a8"
            ],
            [
             0.3333333333333333,
             "#9c179e"
            ],
            [
             0.4444444444444444,
             "#bd3786"
            ],
            [
             0.5555555555555556,
             "#d8576b"
            ],
            [
             0.6666666666666666,
             "#ed7953"
            ],
            [
             0.7777777777777778,
             "#fb9f3a"
            ],
            [
             0.8888888888888888,
             "#fdca26"
            ],
            [
             1,
             "#f0f921"
            ]
           ]
          },
          "colorway": [
           "#636efa",
           "#EF553B",
           "#00cc96",
           "#ab63fa",
           "#FFA15A",
           "#19d3f3",
           "#FF6692",
           "#B6E880",
           "#FF97FF",
           "#FECB52"
          ],
          "font": {
           "color": "#2a3f5f"
          },
          "geo": {
           "bgcolor": "white",
           "lakecolor": "white",
           "landcolor": "#E5ECF6",
           "showlakes": true,
           "showland": true,
           "subunitcolor": "white"
          },
          "hoverlabel": {
           "align": "left"
          },
          "hovermode": "closest",
          "mapbox": {
           "style": "light"
          },
          "paper_bgcolor": "white",
          "plot_bgcolor": "#E5ECF6",
          "polar": {
           "angularaxis": {
            "gridcolor": "white",
            "linecolor": "white",
            "ticks": ""
           },
           "bgcolor": "#E5ECF6",
           "radialaxis": {
            "gridcolor": "white",
            "linecolor": "white",
            "ticks": ""
           }
          },
          "scene": {
           "xaxis": {
            "backgroundcolor": "#E5ECF6",
            "gridcolor": "white",
            "gridwidth": 2,
            "linecolor": "white",
            "showbackground": true,
            "ticks": "",
            "zerolinecolor": "white"
           },
           "yaxis": {
            "backgroundcolor": "#E5ECF6",
            "gridcolor": "white",
            "gridwidth": 2,
            "linecolor": "white",
            "showbackground": true,
            "ticks": "",
            "zerolinecolor": "white"
           },
           "zaxis": {
            "backgroundcolor": "#E5ECF6",
            "gridcolor": "white",
            "gridwidth": 2,
            "linecolor": "white",
            "showbackground": true,
            "ticks": "",
            "zerolinecolor": "white"
           }
          },
          "shapedefaults": {
           "line": {
            "color": "#2a3f5f"
           }
          },
          "ternary": {
           "aaxis": {
            "gridcolor": "white",
            "linecolor": "white",
            "ticks": ""
           },
           "baxis": {
            "gridcolor": "white",
            "linecolor": "white",
            "ticks": ""
           },
           "bgcolor": "#E5ECF6",
           "caxis": {
            "gridcolor": "white",
            "linecolor": "white",
            "ticks": ""
           }
          },
          "title": {
           "x": 0.05
          },
          "xaxis": {
           "automargin": true,
           "gridcolor": "white",
           "linecolor": "white",
           "ticks": "",
           "title": {
            "standoff": 15
           },
           "zerolinecolor": "white",
           "zerolinewidth": 2
          },
          "yaxis": {
           "automargin": true,
           "gridcolor": "white",
           "linecolor": "white",
           "ticks": "",
           "title": {
            "standoff": 15
           },
           "zerolinecolor": "white",
           "zerolinewidth": 2
          }
         }
        },
        "title": {
         "text": "Activitat mitjana diària"
        },
        "width": 1300,
        "xaxis": {
         "anchor": "y",
         "autorange": true,
         "domain": [
          0,
          0.2888888888888889
         ],
         "range": [
          -0.6666666666666667,
          6.666666666666667
         ],
         "type": "category"
        },
        "xaxis2": {
         "anchor": "y2",
         "autorange": true,
         "domain": [
          0.35555555555555557,
          0.6444444444444445
         ],
         "range": [
          -0.6666666666666667,
          6.666666666666667
         ],
         "type": "category"
        },
        "xaxis3": {
         "anchor": "y3",
         "autorange": true,
         "domain": [
          0.7111111111111111,
          1
         ],
         "range": [
          -0.6666666666666667,
          6.666666666666666
         ],
         "type": "category"
        },
        "yaxis": {
         "anchor": "x",
         "autorange": true,
         "domain": [
          0,
          1
         ],
         "range": [
          -0.7222222222222223,
          33.72222222222222
         ],
         "type": "linear"
        },
        "yaxis2": {
         "anchor": "x2",
         "autorange": true,
         "domain": [
          0,
          1
         ],
         "range": [
          -1.2222222222222223,
          43.22222222222222
         ],
         "type": "linear"
        },
        "yaxis3": {
         "anchor": "x3",
         "autorange": true,
         "domain": [
          0,
          1
         ],
         "range": [
          -1.5,
          48.5
         ],
         "type": "linear"
        }
       }
      },
      "image/png": "[encoded data removed]",
      "text/html": [
       "<div>                            <div id=\"46a6faa0-30da-43b6-a01b-af99e3458b51\" class=\"plotly-graph-div\" style=\"height:500px; width:1300px;\"></div>            <script type=\"text/javascript\">                require([\"plotly\"], function(Plotly) {                    window.PLOTLYENV=window.PLOTLYENV || {};                                    if (document.getElementById(\"46a6faa0-30da-43b6-a01b-af99e3458b51\")) {                    Plotly.newPlot(                        \"46a6faa0-30da-43b6-a01b-af99e3458b51\",                        [{\"marker\":{\"color\":\"#f7dc6f\"},\"name\":\"cup\",\"showlegend\":false,\"width\":0.6,\"y\":[3,12,18,8,11,7,8,14,17,11,17,17,4,6,15,35,12,14,4,6,20,15,14,26,16,17,6,12,27,30,18,7,5,6,8,23,15,11,16,7,3,9,18,12,22,14,6,10,7,21,17,13,22,2,4,11,19,18,26,34,7,9,11,10,20,16,8,3,5,2],\"type\":\"box\",\"xaxis\":\"x3\",\"yaxis\":\"y3\"},{\"marker\":{\"color\":\"#f7dc6f\"},\"name\":\"cup\",\"showlegend\":true,\"width\":0.6,\"y\":[3,4,4,2,2,4,2,4,6,3,2,4,9,3,3,3,3,3,2,5,3,4,1,2,7,9,7,4,1,4,3,6,5,2,2,2,4,7,5,5,5,2,1,1,6,5,1,3,2,2,4,6,3,6,2,3,1,1,3,5,3,2,1,1],\"type\":\"box\",\"xaxis\":\"x\",\"yaxis\":\"y\"},{\"marker\":{\"color\":\"#f7dc6f\"},\"name\":\"cup\",\"showlegend\":false,\"width\":0.6,\"y\":[3,8,14,8,7,5,6,10,13,7,8,13,4,4,10,24,6,9,4,3,17,11,12,21,12,13,5,10,19,20,8,3,5,4,4,19,9,6,14,3,1,5,11,7,12,5,3,9,6,15,12,12,19,2,7,12,15,13,30,4,8,10,7,15,11,6,2,4,1],\"type\":\"box\",\"xaxis\":\"x2\",\"yaxis\":\"y2\"},{\"marker\":{\"color\":\"#a569bd\"},\"name\":\"ecp\",\"showlegend\":false,\"width\":0.6,\"y\":[6,23,3,7,15,26,17,32,9,5,9,13,26,30,31,15,9,13,11,23,14,8,7,6,3,5,25,26,25,25,8,10,24,35,27,29,20,6,5,18,23,40,20,32,12,4,14,39,42,46,35,12,2,11],\"type\":\"box\",\"xaxis\":\"x3\",\"yaxis\":\"y3\"},{\"marker\":{\"color\":\"#a569bd\"},\"name\":\"ecp\",\"showlegend\":true,\"width\":0.6,\"y\":[4,11,2,9,18,8,14,5,3,4,3,19,20,21,11,4,4,2,11,6,1,2,1,2,16,16,17,15,3,3,14,23,19,21,11,3,3,9,16,21,11,15,4,1,6,25,32,29,17,8,1,9],\"type\":\"box\",\"xaxis\":\"x\",\"yaxis\":\"y\"},{\"marker\":{\"color\":\"#a569bd\"},\"name\":\"ecp\",\"showlegend\":false,\"width\":0.6,\"y\":[2,12,3,5,6,8,9,18,4,2,5,10,7,10,10,4,5,9,9,12,8,8,6,4,2,3,9,10,8,8,5,7,10,12,8,8,9,3,2,9,7,19,9,17,8,3,8,14,8,17,18,4,1,2],\"type\":\"box\",\"xaxis\":\"x2\",\"yaxis\":\"y2\"},{\"marker\":{\"color\":\"#f39c12\"},\"name\":\"erc\",\"showlegend\":false,\"width\":0.6,\"y\":[1,14,32,34,15,15,6,8,13,18,25,14,21,1,8,11,26,23,22,13,5,17,11,23,24,28,25,7,20,11,24,31,31,21,14,13,24,15,34,27,28,10,10,15,19,17,25,16,20,7,15],\"type\":\"box\",\"xaxis\":\"x3\",\"yaxis\":\"y3\"},{\"marker\":{\"color\":\"#f39c12\"},\"name\":\"erc\",\"showlegend\":true,\"width\":0.6,\"y\":[3,15,9,4,4,2,1,3,4,4,2,3,1,4,6,5,12,1,1,4,4,11,6,9,5,1,4,6,6,10,12,5,5,4,7,6,14,9,9,3,3,7,6,13,5,6,2,2,10],\"type\":\"box\",\"xaxis\":\"x\",\"yaxis\":\"y\"},{\"marker\":{\"color\":\"#f39c12\"},\"name\":\"erc\",\"showlegend\":false,\"width\":0.6,\"y\":[1,11,15,20,11,11,4,7,10,12,18,9,18,1,7,7,15,18,10,12,4,13,7,12,16,19,20,6,14,5,18,19,15,16,9,9,17,9,15,14,17,7,7,8,11,4,17,7,15,5,5],\"type\":\"box\",\"xaxis\":\"x2\",\"yaxis\":\"y2\"},{\"marker\":{\"color\":\"#82e0aa\"},\"name\":\"jxc\",\"showlegend\":false,\"width\":0.6,\"y\":[3,20,32,13,6,7,9,24,25,25,22,13,10,25,36,44,23,8,3,12,18,9,17,20,10,3,3,13,18,22,27,6,25,6,12,16,22,20,8,11,1,16,13,16,37,36,21,8,17,25,35,37,12,4,12,12],\"type\":\"box\",\"xaxis\":\"x3\",\"yaxis\":\"y3\"},{\"marker\":{\"color\":\"#82e0aa\"},\"name\":\"jxc\",\"showlegend\":true,\"width\":0.6,\"y\":[7,5,2,2,3,1,6,10,14,4,3,1,6,7,3,1,1,2,2,10,1,3,5,1,1,7,4,4,8,1,6,2,1,1,6,6,1,6,1,2,1,3,18,15,10,4,9,4,15,14,3,1,4,5],\"type\":\"box\",\"xaxis\":\"x\",\"yaxis\":\"y\"},{\"marker\":{\"color\":\"#82e0aa\"},\"name\":\"jxc\",\"showlegend\":false,\"width\":0.6,\"y\":[3,13,27,11,4,4,8,18,15,11,18,10,9,19,29,41,22,7,1,10,8,9,16,17,5,2,2,6,14,18,19,5,16,4,11,15,16,14,7,5,14,10,13,19,21,8,4,8,21,20,23,9,3,8,7],\"type\":\"box\",\"xaxis\":\"x2\",\"yaxis\":\"y2\"},{\"marker\":{\"color\":\"#2471a3\"},\"name\":\"pp\",\"showlegend\":false,\"width\":0.6,\"y\":[1,3,2,2,3,3,3,4,2,2,2,4,4,6,3,2,2,4,1,2,5,2,4,3,8,4,8,4,3,1,2,3,4,3,1,2,5,1,2,2,2,8,6,6,5,4,4,2,3,2,2,1,3,2,3,5,3,1,2,1,4,2,1,3,1,1],\"type\":\"box\",\"xaxis\":\"x3\",\"yaxis\":\"y3\"},{\"marker\":{\"color\":\"#2471a3\"},\"name\":\"pp\",\"showlegend\":true,\"width\":0.6,\"y\":[1,1,2,1,2,1,1,1,2,1,2,1],\"type\":\"box\",\"xaxis\":\"x\",\"yaxis\":\"y\"},{\"marker\":{\"color\":\"#2471a3\"},\"name\":\"pp\",\"showlegend\":false,\"width\":0.6,\"y\":[1,3,2,1,3,3,3,4,2,2,1,4,4,6,3,2,2,4,1,2,3,2,4,3,8,4,8,3,3,1,2,3,2,2,1,2,5,1,1,2,2,7,4,6,5,4,4,2,3,2,2,1,2,2,3,3,3,1,2,1,4,1,1,3,1,1],\"type\":\"box\",\"xaxis\":\"x2\",\"yaxis\":\"y2\"},{\"marker\":{\"color\":\"#c0392b\"},\"name\":\"psc\",\"showlegend\":false,\"width\":0.6,\"y\":[3,8,20,21,5,6,5,14,12,5,14,5,3,15,14,21,17,10,14,12,8,17,11,11,9,6,6,12,24,6,11,6,15,12,14,21,17,20,8,6,15,9,7,13,16,18,23,14,8,18,20,18,15,16,10,2,18,16,11,20,30,7,3,14,5,23,22,34,34,34,18],\"type\":\"box\",\"xaxis\":\"x3\",\"yaxis\":\"y3\"},{\"marker\":{\"color\":\"#c0392b\"},\"name\":\"psc\",\"showlegend\":true,\"width\":0.6,\"y\":[1,6,8,13,1,1,2,5,6,1,7,3,1,2,8,12,13,4,9,5,5,11,8,6,6,3,2,7,13,3,8,3,9,5,4,17,12,11,3,14,6,2,10,9,14,16,10,4,11,16,11,10,10,8,14,11,8,8,13,3,1,9,3,15,11,28,26,19,13],\"type\":\"box\",\"xaxis\":\"x\",\"yaxis\":\"y\"},{\"marker\":{\"color\":\"#c0392b\"},\"name\":\"psc\",\"showlegend\":false,\"width\":0.6,\"y\":[2,12,6,4,5,3,9,6,4,7,2,2,13,6,9,4,6,5,7,3,6,3,5,3,3,4,5,11,3,3,3,6,7,10,4,5,9,3,4,1,3,5,3,7,4,5,4,4,7,2,7,5,6,2,2,4,5,3,12,12,4,2,5,2,8,11,6,8,13,5],\"type\":\"box\",\"xaxis\":\"x2\",\"yaxis\":\"y2\"},{\"marker\":{\"color\":\"#229954\"},\"name\":\"vox\",\"showlegend\":false,\"width\":0.6,\"y\":[3,1,1,3,3,2,5,2,2,2,2,4,5,1,1,4,8,6,2,4,1,3,4,10,4,1,5,6,5,11,2,1,1,5,8,4,6,2,1,1,9,9,8,2,3,4,3,9,3,2,1,1,10,7,10,4,1,3,3,9,10,11,14,7,2,8],\"type\":\"box\",\"xaxis\":\"x3\",\"yaxis\":\"y3\"},{\"marker\":{\"color\":\"#229954\"},\"name\":\"vox\",\"showlegend\":true,\"width\":0.6,\"y\":[2,1,3,1,1,2,1,1,2,1,2,1,1,3,7,5,1,2,1,3,3,10,4,4,4,4,9,1,1,1,4,5,2,6,2,1,7,7,7,2,2,4,3,6,3,2,1,8,5,9,4,3,3,8,7,7,8,1,1,4],\"type\":\"box\",\"xaxis\":\"x\",\"yaxis\":\"y\"},{\"marker\":{\"color\":\"#229954\"},\"name\":\"vox\",\"showlegend\":false,\"width\":0.6,\"y\":[1,1,2,1,3,1,1,1,2,4,1,1,1,1,1,2,1,1,1,1,1,1,3,2,1,2,2,1,3,1,2,2,1,1,1,3,4,6,6,1,4],\"type\":\"box\",\"xaxis\":\"x2\",\"yaxis\":\"y2\"}],                        {\"template\":{\"data\":{\"histogram2dcontour\":[{\"type\":\"histogram2dcontour\",\"colorbar\":{\"outlinewidth\":0,\"ticks\":\"\"},\"colorscale\":[[0.0,\"#0d0887\"],[0.1111111111111111,\"#46039f\"],[0.2222222222222222,\"#7201a8\"],[0.3333333333333333,\"#9c179e\"],[0.4444444444444444,\"#bd3786\"],[0.5555555555555556,\"#d8576b\"],[0.6666666666666666,\"#ed7953\"],[0.7777777777777778,\"#fb9f3a\"],[0.8888888888888888,\"#fdca26\"],[1.0,\"#f0f921\"]]}],\"choropleth\":[{\"type\":\"choropleth\",\"colorbar\":{\"outlinewidth\":0,\"ticks\":\"\"}}],\"histogram2d\":[{\"type\":\"histogram2d\",\"colorbar\":{\"outlinewidth\":0,\"ticks\":\"\"},\"colorscale\":[[0.0,\"#0d0887\"],[0.1111111111111111,\"#46039f\"],[0.2222222222222222,\"#7201a8\"],[0.3333333333333333,\"#9c179e\"],[0.4444444444444444,\"#bd3786\"],[0.5555555555555556,\"#d8576b\"],[0.6666666666666666,\"#ed7953\"],[0.7777777777777778,\"#fb9f3a\"],[0.8888888888888888,\"#fdca26\"],[1.0,\"#f0f921\"]]}],\"heatmap\":[{\"type\":\"heatmap\",\"colorbar\":{\"outlinewidth\":0,\"ticks\":\"\"},\"colorscale\":[[0.0,\"#0d0887\"],[0.1111111111111111,\"#46039f\"],[0.2222222222222222,\"#7201a8\"],[0.3333333333333333,\"#9c179e\"],[0.4444444444444444,\"#bd3786\"],[0.5555555555555556,\"#d8576b\"],[0.6666666666666666,\"#ed7953\"],[0.7777777777777778,\"#fb9f3a\"],[0.8888888888888888,\"#fdca26\"],[1.0,\"#f0f921\"]]}],\"heatmapgl\":[{\"type\":\"heatmapgl\",\"colorbar\":{\"outlinewidth\":0,\"ticks\":\"\"},\"colorscale\":[[0.0,\"#0d0887\"],[0.1111111111111111,\"#46039f\"],[0.2222222222222222,\"#7201a8\"],[0.3333333333333333,\"#9c179e\"],[0.4444444444444444,\"#bd3786\"],[0.5555555555555556,\"#d8576b\"],[0.6666666666666666,\"#ed7953\"],[0.7777777777777778,\"#fb9f3a\"],[0.8888888888888888,\"#fdca26\"],[1.0,\"#f0f921\"]]}],\"contourcarpet\":[{\"type\":\"contourcarpet\",\"colorbar\":{\"outlinewidth\":0,\"ticks\":\"\"}}],\"contour\":[{\"type\":\"contour\",\"colorbar\":{\"outlinewidth\":0,\"ticks\":\"\"},\"colorscale\":[[0.0,\"#0d0887\"],[0.1111111111111111,\"#46039f\"],[0.2222222222222222,\"#7201a8\"],[0.3333333333333333,\"#9c179e\"],[0.4444444444444444,\"#bd3786\"],[0.5555555555555556,\"#d8576b\"],[0.6666666666666666,\"#ed7953\"],[0.7777777777777778,\"#fb9f3a\"],[0.8888888888888888,\"#fdca26\"],[1.0,\"#f0f921\"]]}],\"surface\":[{\"type\":\"surface\",\"colorbar\":{\"outlinewidth\":0,\"ticks\":\"\"},\"colorscale\":[[0.0,\"#0d0887\"],[0.1111111111111111,\"#46039f\"],[0.2222222222222222,\"#7201a8\"],[0.3333333333333333,\"#9c179e\"],[0.4444444444444444,\"#bd3786\"],[0.5555555555555556,\"#d8576b\"],[0.6666666666666666,\"#ed7953\"],[0.7777777777777778,\"#fb9f3a\"],[0.8888888888888888,\"#fdca26\"],[1.0,\"#f0f921\"]]}],\"mesh3d\":[{\"type\":\"mesh3d\",\"colorbar\":{\"outlinewidth\":0,\"ticks\":\"\"}}],\"scatter\":[{\"fillpattern\":{\"fillmode\":\"overlay\",\"size\":10,\"solidity\":0.2},\"type\":\"scatter\"}],\"parcoords\":[{\"type\":\"parcoords\",\"line\":{\"colorbar\":{\"outlinewidth\":0,\"ticks\":\"\"}}}],\"scatterpolargl\":[{\"type\":\"scatterpolargl\",\"marker\":{\"colorbar\":{\"outlinewidth\":0,\"ticks\":\"\"}}}],\"bar\":[{\"error_x\":{\"color\":\"#2a3f5f\"},\"error_y\":{\"color\":\"#2a3f5f\"},\"marker\":{\"line\":{\"color\":\"#E5ECF6\",\"width\":0.5},\"pattern\":{\"fillmode\":\"overlay\",\"size\":10,\"solidity\":0.2}},\"type\":\"bar\"}],\"scattergeo\":[{\"type\":\"scattergeo\",\"marker\":{\"colorbar\":{\"outlinewidth\":0,\"ticks\":\"\"}}}],\"scatterpolar\":[{\"type\":\"scatterpolar\",\"marker\":{\"colorbar\":{\"outlinewidth\":0,\"ticks\":\"\"}}}],\"histogram\":[{\"marker\":{\"pattern\":{\"fillmode\":\"overlay\",\"size\":10,\"solidity\":0.2}},\"type\":\"histogram\"}],\"scattergl\":[{\"type\":\"scattergl\",\"marker\":{\"colorbar\":{\"outlinewidth\":0,\"ticks\":\"\"}}}],\"scatter3d\":[{\"type\":\"scatter3d\",\"line\":{\"colorbar\":{\"outlinewidth\":0,\"ticks\":\"\"}},\"marker\":{\"colorbar\":{\"outlinewidth\":0,\"ticks\":\"\"}}}],\"scattermapbox\":[{\"type\":\"scattermapbox\",\"marker\":{\"colorbar\":{\"outlinewidth\":0,\"ticks\":\"\"}}}],\"scatterternary\":[{\"type\":\"scatterternary\",\"marker\":{\"colorbar\":{\"outlinewidth\":0,\"ticks\":\"\"}}}],\"scattercarpet\":[{\"type\":\"scattercarpet\",\"marker\":{\"colorbar\":{\"outlinewidth\":0,\"ticks\":\"\"}}}],\"carpet\":[{\"aaxis\":{\"endlinecolor\":\"#2a3f5f\",\"gridcolor\":\"white\",\"linecolor\":\"white\",\"minorgridcolor\":\"white\",\"startlinecolor\":\"#2a3f5f\"},\"baxis\":{\"endlinecolor\":\"#2a3f5f\",\"gridcolor\":\"white\",\"linecolor\":\"white\",\"minorgridcolor\":\"white\",\"startlinecolor\":\"#2a3f5f\"},\"type\":\"carpet\"}],\"table\":[{\"cells\":{\"fill\":{\"color\":\"#EBF0F8\"},\"line\":{\"color\":\"white\"}},\"header\":{\"fill\":{\"color\":\"#C8D4E3\"},\"line\":{\"color\":\"white\"}},\"type\":\"table\"}],\"barpolar\":[{\"marker\":{\"line\":{\"color\":\"#E5ECF6\",\"width\":0.5},\"pattern\":{\"fillmode\":\"overlay\",\"size\":10,\"solidity\":0.2}},\"type\":\"barpolar\"}],\"pie\":[{\"automargin\":true,\"type\":\"pie\"}]},\"layout\":{\"autotypenumbers\":\"strict\",\"colorway\":[\"#636efa\",\"#EF553B\",\"#00cc96\",\"#ab63fa\",\"#FFA15A\",\"#19d3f3\",\"#FF6692\",\"#B6E880\",\"#FF97FF\",\"#FECB52\"],\"font\":{\"color\":\"#2a3f5f\"},\"hovermode\":\"closest\",\"hoverlabel\":{\"align\":\"left\"},\"paper_bgcolor\":\"white\",\"plot_bgcolor\":\"#E5ECF6\",\"polar\":{\"bgcolor\":\"#E5ECF6\",\"angularaxis\":{\"gridcolor\":\"white\",\"linecolor\":\"white\",\"ticks\":\"\"},\"radialaxis\":{\"gridcolor\":\"white\",\"linecolor\":\"white\",\"ticks\":\"\"}},\"ternary\":{\"bgcolor\":\"#E5ECF6\",\"aaxis\":{\"gridcolor\":\"white\",\"linecolor\":\"white\",\"ticks\":\"\"},\"baxis\":{\"gridcolor\":\"white\",\"linecolor\":\"white\",\"ticks\":\"\"},\"caxis\":{\"gridcolor\":\"white\",\"linecolor\":\"white\",\"ticks\":\"\"}},\"coloraxis\":{\"colorbar\":{\"outlinewidth\":0,\"ticks\":\"\"}},\"colorscale\":{\"sequential\":[[0.0,\"#0d0887\"],[0.1111111111111111,\"#46039f\"],[0.2222222222222222,\"#7201a8\"],[0.3333333333333333,\"#9c179e\"],[0.4444444444444444,\"#bd3786\"],[0.5555555555555556,\"#d8576b\"],[0.6666666666666666,\"#ed7953\"],[0.7777777777777778,\"#fb9f3a\"],[0.8888888888888888,\"#fdca26\"],[1.0,\"#f0f921\"]],\"sequentialminus\":[[0.0,\"#0d0887\"],[0.1111111111111111,\"#46039f\"],[0.2222222222222222,\"#7201a8\"],[0.3333333333333333,\"#9c179e\"],[0.4444444444444444,\"#bd3786\"],[0.5555555555555556,\"#d8576b\"],[0.6666666666666666,\"#ed7953\"],[0.7777777777777778,\"#fb9f3a\"],[0.8888888888888888,\"#fdca26\"],[1.0,\"#f0f921\"]],\"diverging\":[[0,\"#8e0152\"],[0.1,\"#c51b7d\"],[0.2,\"#de77ae\"],[0.3,\"#f1b6da\"],[0.4,\"#fde0ef\"],[0.5,\"#f7f7f7\"],[0.6,\"#e6f5d0\"],[0.7,\"#b8e186\"],[0.8,\"#7fbc41\"],[0.9,\"#4d9221\"],[1,\"#276419\"]]},\"xaxis\":{\"gridcolor\":\"white\",\"linecolor\":\"white\",\"ticks\":\"\",\"title\":{\"standoff\":15},\"zerolinecolor\":\"white\",\"automargin\":true,\"zerolinewidth\":2},\"yaxis\":{\"gridcolor\":\"white\",\"linecolor\":\"white\",\"ticks\":\"\",\"title\":{\"standoff\":15},\"zerolinecolor\":\"white\",\"automargin\":true,\"zerolinewidth\":2},\"scene\":{\"xaxis\":{\"backgroundcolor\":\"#E5ECF6\",\"gridcolor\":\"white\",\"linecolor\":\"white\",\"showbackground\":true,\"ticks\":\"\",\"zerolinecolor\":\"white\",\"gridwidth\":2},\"yaxis\":{\"backgroundcolor\":\"#E5ECF6\",\"gridcolor\":\"white\",\"linecolor\":\"white\",\"showbackground\":true,\"ticks\":\"\",\"zerolinecolor\":\"white\",\"gridwidth\":2},\"zaxis\":{\"backgroundcolor\":\"#E5ECF6\",\"gridcolor\":\"white\",\"linecolor\":\"white\",\"showbackground\":true,\"ticks\":\"\",\"zerolinecolor\":\"white\",\"gridwidth\":2}},\"shapedefaults\":{\"line\":{\"color\":\"#2a3f5f\"}},\"annotationdefaults\":{\"arrowcolor\":\"#2a3f5f\",\"arrowhead\":0,\"arrowwidth\":1},\"geo\":{\"bgcolor\":\"white\",\"landcolor\":\"#E5ECF6\",\"subunitcolor\":\"white\",\"showland\":true,\"showlakes\":true,\"lakecolor\":\"white\"},\"title\":{\"x\":0.05},\"mapbox\":{\"style\":\"light\"}}},\"xaxis\":{\"anchor\":\"y\",\"domain\":[0.0,0.2888888888888889]},\"yaxis\":{\"anchor\":\"x\",\"domain\":[0.0,1.0]},\"xaxis2\":{\"anchor\":\"y2\",\"domain\":[0.35555555555555557,0.6444444444444445]},\"yaxis2\":{\"anchor\":\"x2\",\"domain\":[0.0,1.0]},\"xaxis3\":{\"anchor\":\"y3\",\"domain\":[0.7111111111111111,1.0]},\"yaxis3\":{\"anchor\":\"x3\",\"domain\":[0.0,1.0]},\"annotations\":[{\"font\":{\"size\":16},\"showarrow\":false,\"text\":\"Publicacions di\\u00e0ries\",\"x\":0.14444444444444446,\"xanchor\":\"center\",\"xref\":\"paper\",\"y\":1.0,\"yanchor\":\"bottom\",\"yref\":\"paper\"},{\"font\":{\"size\":16},\"showarrow\":false,\"text\":\"Tweets diaris\",\"x\":0.5,\"xanchor\":\"center\",\"xref\":\"paper\",\"y\":1.0,\"yanchor\":\"bottom\",\"yref\":\"paper\"},{\"font\":{\"size\":16},\"showarrow\":false,\"text\":\"Retweets diaris\",\"x\":0.8555555555555556,\"xanchor\":\"center\",\"xref\":\"paper\",\"y\":1.0,\"yanchor\":\"bottom\",\"yref\":\"paper\"}],\"title\":{\"text\":\"Activitat mitjana di\\u00e0ria\"},\"height\":500,\"width\":1300,\"boxmode\":\"group\"},                        {\"responsive\": true}                    ).then(function(){\n",
       "                            \n",
       "var gd = document.getElementById('46a6faa0-30da-43b6-a01b-af99e3458b51');\n",
       "var x = new MutationObserver(function (mutations, observer) {{\n",
       "        var display = window.getComputedStyle(gd).display;\n",
       "        if (!display || display === 'none') {{\n",
       "            console.log([gd, 'removed!']);\n",
       "            Plotly.purge(gd);\n",
       "            observer.disconnect();\n",
       "        }}\n",
       "}});\n",
       "\n",
       "// Listen for the removal of the full notebook cells\n",
       "var notebookContainer = gd.closest('#notebook-container');\n",
       "if (notebookContainer) {{\n",
       "    x.observe(notebookContainer, {childList: true});\n",
       "}}\n",
       "\n",
       "// Listen for the clearing of the current output cell\n",
       "var outputEl = gd.closest('.output');\n",
       "if (outputEl) {{\n",
       "    x.observe(outputEl, {childList: true});\n",
       "}}\n",
       "\n",
       "                        })                };                });            </script>        </div>"
      ]
     },
     "metadata": {},
     "output_type": "display_data"
    }
   ],
   "source": [
    "df.loc[: , 'data'] = df['creat'].values.astype('datetime64[D]')\n",
    "daily_tweets_by_partit = df.groupby(['data', 'partit', 'tipus'])['tweet_id'].nunique().reset_index()\n",
    "\n",
    "# Define a consistent color palette for partits\n",
    "partits = sorted(df['partit'].unique())\n",
    "colors = sns.color_palette(colors_partits, len(partits)).as_hex()  # Using Seaborn to generate colors\n",
    "color_map = dict(zip(partits, colors))\n",
    "\n",
    "fig = make_subplots(rows=1, cols=3, subplot_titles=(\"Publicacions diàries\", \"Tweets diaris\", \"Retweets diaris\"))\n",
    "\n",
    "# Helper function to add traces to avoid repetition\n",
    "def add_traces(partit_data, row, col, partit, showlegend):\n",
    "    fig.add_trace(\n",
    "        go.Box(y=partit_data['tweet_id'], name=partit, marker_color=color_map[partit], showlegend=showlegend, width=0.6),\n",
    "        row=row, col=col\n",
    "    )\n",
    "\n",
    "# Plotting Tweets and Retweets\n",
    "for partit in partits:\n",
    "    # Plotting the sum of all types\n",
    "    summed_data = daily_tweets_by_partit[daily_tweets_by_partit['partit'] == partit].groupby(['data', 'partit'])['tweet_id'].sum().reset_index()\n",
    "    add_traces(summed_data, 1, 3, partit, False)\n",
    "    \n",
    "    for i, typus in enumerate(['Tweet', 'Retweet']):\n",
    "        filtered_data = daily_tweets_by_partit[(daily_tweets_by_partit['partit'] == partit) & (daily_tweets_by_partit['tipus'] == typus)]\n",
    "        add_traces(filtered_data, 1, i+1, partit, showlegend=(i==0))\n",
    "\n",
    "fig.update_layout(height=500, width=1300, title_text=\"Activitat mitjana diària\", boxmode='group')\n",
    "fig.show()"
   ]
  },
  {
   "cell_type": "markdown",
   "id": "3f1d548c-fb21-41bb-b192-e0a243654767",
   "metadata": {},
   "source": [
    "# 2. Llengües"
   ]
  },
  {
   "cell_type": "code",
   "execution_count": 76,
   "id": "5030c7c9-a062-4954-8c2b-5ff18c053b17",
   "metadata": {},
   "outputs": [],
   "source": [
    "# llengües dels tweets\n",
    "tweet_counts = df.groupby(['partit', 'llengua'])['tweet_id'].nunique().reset_index(name='counts')\n",
    "total_counts_by_partit = tweet_counts.groupby('partit')['counts'].sum().reset_index(name='total_counts')\n",
    "\n",
    "# Merge the total counts back into the original dataframe\n",
    "tweet_counts = tweet_counts.merge(total_counts_by_partit, on='partit')\n",
    "\n",
    "# Calculate the percentage of each llengua within each partit\n",
    "tweet_counts['percentage'] = (tweet_counts['counts'] / tweet_counts['total_counts']) * 100"
   ]
  },
  {
   "cell_type": "code",
   "execution_count": 79,
   "id": "36c3b851-c5b2-4028-aef7-54f65217f266",
   "metadata": {},
   "outputs": [
    {
     "data": {
      "image/png": "[encoded data removed]",
      "text/plain": [
       "<Figure size 1200x600 with 1 Axes>"
      ]
     },
     "metadata": {},
     "output_type": "display_data"
    }
   ],
   "source": [
    "plt.figure(figsize=(12, 6)) \n",
    "ax = sns.barplot(data=tweet_counts, x='partit', y='counts', hue='llengua', palette='viridis')\n",
    "\n",
    "# Iterate through the bars and add percentage text\n",
    "for bar in ax.patches:\n",
    "    # The current bar represents the count for a particular language and party\n",
    "    height = bar.get_height()  # The height of the bar is the count\n",
    "    partit = tweet_counts.loc[tweet_counts['counts'] == height, 'partit'].values[0]\n",
    "    percentage = tweet_counts.loc[(tweet_counts['partit'] == partit) & (tweet_counts['counts'] == height), 'percentage'].values[0]\n",
    "    \n",
    "    # Format and position the text on top of the bar\n",
    "    ax.text(bar.get_x() + bar.get_width() / 2., height, f'{percentage:.1f}%', ha='center', va='bottom')\n",
    "\n",
    "plt.xticks(rotation=45)  \n",
    "plt.title('Publicacions i Llengua')\n",
    "plt.xlabel('Partit')\n",
    "plt.ylabel('Número de publicacions')\n",
    "plt.tight_layout() \n",
    "plt.show()"
   ]
  },
  {
   "cell_type": "code",
   "execution_count": null,
   "id": "d9744023-9849-436f-9778-77b7b749486b",
   "metadata": {},
   "outputs": [],
   "source": []
  },
  {
   "cell_type": "code",
   "execution_count": null,
   "id": "4491cbba-fa35-4c3e-9c20-503de180a6db",
   "metadata": {},
   "outputs": [],
   "source": []
  },
  {
   "cell_type": "code",
   "execution_count": null,
   "id": "37ad2321-4bd1-468f-813f-f2bb49806e07",
   "metadata": {},
   "outputs": [],
   "source": []
  },
  {
   "cell_type": "markdown",
   "id": "e450a662-6649-4bad-8d90-5c47734639af",
   "metadata": {},
   "source": [
    "### "
   ]
  }
 ],
 "metadata": {
  "kernelspec": {
   "display_name": "Python 3 (ipykernel)",
   "language": "python",
   "name": "python3"
  },
  "language_info": {
   "codemirror_mode": {
    "name": "ipython",
    "version": 3
   },
   "file_extension": ".py",
   "mimetype": "text/x-python",
   "name": "python",
   "nbconvert_exporter": "python",
   "pygments_lexer": "ipython3",
   "version": "3.9.6"
  }
 },
 "nbformat": 4,
 "nbformat_minor": 5
}
