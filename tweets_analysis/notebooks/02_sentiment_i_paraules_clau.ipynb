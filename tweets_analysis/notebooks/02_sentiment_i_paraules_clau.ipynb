{
 "cells": [
  {
   "cell_type": "code",
   "execution_count": 1,
   "id": "0650fada-6ade-427d-b485-92bd8796e41a",
   "metadata": {},
   "outputs": [
    {
     "name": "stderr",
     "output_type": "stream",
     "text": [
      "/Users/danielsflamarich/Documents/data_works/various/.virtualenv/lib/python3.9/site-packages/urllib3/__init__.py:34: NotOpenSSLWarning: urllib3 v2.0 only supports OpenSSL 1.1.1+, currently the 'ssl' module is compiled with 'LibreSSL 2.8.3'. See: https://github.com/urllib3/urllib3/issues/3020\n",
      "  warnings.warn(\n",
      "2024-04-02 15:11:08.387659: I tensorflow/core/platform/cpu_feature_guard.cc:210] This TensorFlow binary is optimized to use available CPU instructions in performance-critical operations.\n",
      "To enable the following instructions: AVX2 FMA, in other operations, rebuild TensorFlow with the appropriate compiler flags.\n"
     ]
    }
   ],
   "source": [
    "import pandas as pd\n",
    "import numpy as np\n",
    "\n",
    "from transformers import pipeline\n",
    "from transformers import AutoTokenizer, AutoModelForSequenceClassification\n",
    "\n",
    "import matplotlib.pyplot as plt\n",
    "import seaborn as sns\n",
    "\n",
    "plt.rcParams['figure.figsize'] = [20, 8]"
   ]
  },
  {
   "cell_type": "code",
   "execution_count": 2,
   "id": "3288cef3-c6a7-4cfd-a375-d399c8d4265d",
   "metadata": {},
   "outputs": [],
   "source": [
    "pd.options.display.max_columns = None"
   ]
  },
  {
   "cell_type": "code",
   "execution_count": 3,
   "id": "aa02424d-632d-4a9d-bf43-8a47370d19e3",
   "metadata": {},
   "outputs": [],
   "source": [
    "colors_partits = ['#F7DC6F', '#A569BD', '#F39C12', '#82E0AA', '#2471A3', '#C0392B', '#229954']\n",
    "\n",
    "groupings = ['llengua', 'tipus']\n",
    "resample = ['d', 'w', 'w-mon', 'm']"
   ]
  },
  {
   "cell_type": "code",
   "execution_count": 4,
   "id": "d8094c87-b1f7-4108-a635-e23ce652a830",
   "metadata": {},
   "outputs": [],
   "source": [
    "df_raw = pd.read_csv('../data/external/piulades_2024_03_18 - tot.csv', parse_dates=['creat'])"
   ]
  },
  {
   "cell_type": "code",
   "execution_count": 5,
   "id": "45fa78e1-28eb-4789-95a6-6757c7cd8950",
   "metadata": {},
   "outputs": [],
   "source": [
    "# començar el 2024\n",
    "df_raw = df_raw[df_raw['creat']>='2024-01-01']\n",
    "\n",
    "df_raw['data'] = df_raw['creat'].values.astype('datetime64[D]')"
   ]
  },
  {
   "cell_type": "code",
   "execution_count": 6,
   "id": "b1065a9e-e77a-422b-9ded-b72ad9d35f24",
   "metadata": {},
   "outputs": [
    {
     "name": "stdout",
     "output_type": "stream",
     "text": [
      "['ca' 'tr' 'en' 'es' 'pt' 'eu' 'hu' 'it' 'fr' 'zxx' 'lv' 'und' 'qst']\n"
     ]
    }
   ],
   "source": [
    "print(df_raw['llengua'].unique())"
   ]
  },
  {
   "cell_type": "code",
   "execution_count": 7,
   "id": "b63ef3eb-7138-4de4-a3d7-5c9056c8b937",
   "metadata": {},
   "outputs": [],
   "source": [
    "llengues = ['ca', 'es']\n",
    "\n",
    "df = df_raw[df_raw['llengua'].isin(llengues)]"
   ]
  },
  {
   "cell_type": "markdown",
   "id": "27e045a8-d117-4ca1-a19a-8f2024b0ce31",
   "metadata": {},
   "source": [
    "# 1. Sentiment"
   ]
  },
  {
   "cell_type": "code",
   "execution_count": 8,
   "id": "4eede109-0152-4886-a07d-2d2be9781b68",
   "metadata": {},
   "outputs": [
    {
     "name": "stderr",
     "output_type": "stream",
     "text": [
      "Some weights of BertForSequenceClassification were not initialized from the model checkpoint at bert-base-multilingual-cased and are newly initialized: ['classifier.bias', 'classifier.weight']\n",
      "You should probably TRAIN this model on a down-stream task to be able to use it for predictions and inference.\n"
     ]
    }
   ],
   "source": [
    "sentiment_pipeline = pipeline('text-classification', model='bert-base-multilingual-cased')"
   ]
  },
  {
   "cell_type": "code",
   "execution_count": 9,
   "id": "07174fe0-e458-4913-942b-704d717e4dcb",
   "metadata": {},
   "outputs": [
    {
     "name": "stderr",
     "output_type": "stream",
     "text": [
      "Some weights of BertForSequenceClassification were not initialized from the model checkpoint at bert-base-multilingual-cased and are newly initialized: ['classifier.bias', 'classifier.weight']\n",
      "You should probably TRAIN this model on a down-stream task to be able to use it for predictions and inference.\n"
     ]
    }
   ],
   "source": [
    "tokenizer = AutoTokenizer.from_pretrained('bert-base-multilingual-cased')\n",
    "model = AutoModelForSequenceClassification.from_pretrained('bert-base-multilingual-cased')"
   ]
  },
  {
   "cell_type": "code",
   "execution_count": 10,
   "id": "351b67c1-13ae-4a87-bc5c-eb240473da25",
   "metadata": {},
   "outputs": [],
   "source": [
    "text = df[df.index==6804]['text'].unique()"
   ]
  },
  {
   "cell_type": "markdown",
   "id": "e450a662-6649-4bad-8d90-5c47734639af",
   "metadata": {},
   "source": [
    "### "
   ]
  }
 ],
 "metadata": {
  "kernelspec": {
   "display_name": "Python 3 (ipykernel)",
   "language": "python",
   "name": "python3"
  },
  "language_info": {
   "codemirror_mode": {
    "name": "ipython",
    "version": 3
   },
   "file_extension": ".py",
   "mimetype": "text/x-python",
   "name": "python",
   "nbconvert_exporter": "python",
   "pygments_lexer": "ipython3",
   "version": "3.9.6"
  }
 },
 "nbformat": 4,
 "nbformat_minor": 5
}
